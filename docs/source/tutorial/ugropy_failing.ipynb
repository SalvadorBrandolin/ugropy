{
 "cells": [
  {
   "cell_type": "markdown",
   "metadata": {},
   "source": [
    "### Failing\n",
    "\n",
    "ugropy may fail to obtain the subgroups of a molecule for a certain model for\n",
    "two reasons: either there is a bug, or the molecule cannot be represented by\n",
    "the subgroups of the failing model.\n",
    "\n",
    "ugropy utilizes SMARTS for the representation of functional groups to inquire\n",
    "whether the molecule contains those structures. Let's examine the functional\n",
    "group list for the classic liquid-vapor UNIFAC model."
   ]
  },
  {
   "cell_type": "code",
   "execution_count": 4,
   "metadata": {},
   "outputs": [
    {
     "data": {
      "text/html": [
       "<div>\n",
       "<style scoped>\n",
       "    .dataframe tbody tr th:only-of-type {\n",
       "        vertical-align: middle;\n",
       "    }\n",
       "\n",
       "    .dataframe tbody tr th {\n",
       "        vertical-align: top;\n",
       "    }\n",
       "\n",
       "    .dataframe thead th {\n",
       "        text-align: right;\n",
       "    }\n",
       "</style>\n",
       "<table border=\"1\" class=\"dataframe\">\n",
       "  <thead>\n",
       "    <tr style=\"text-align: right;\">\n",
       "      <th></th>\n",
       "      <th>smarts</th>\n",
       "      <th>contribute</th>\n",
       "      <th>composed</th>\n",
       "      <th>subgroup_number</th>\n",
       "      <th>main_group</th>\n",
       "      <th>R</th>\n",
       "      <th>Q</th>\n",
       "      <th>molecular_weight</th>\n",
       "    </tr>\n",
       "    <tr>\n",
       "      <th>group</th>\n",
       "      <th></th>\n",
       "      <th></th>\n",
       "      <th></th>\n",
       "      <th></th>\n",
       "      <th></th>\n",
       "      <th></th>\n",
       "      <th></th>\n",
       "      <th></th>\n",
       "    </tr>\n",
       "  </thead>\n",
       "  <tbody>\n",
       "    <tr>\n",
       "      <th>CH3</th>\n",
       "      <td>[CX4H3]</td>\n",
       "      <td>{\"CH3\": 1}</td>\n",
       "      <td>n</td>\n",
       "      <td>1</td>\n",
       "      <td>1</td>\n",
       "      <td>0.9011</td>\n",
       "      <td>0.848</td>\n",
       "      <td>15.03500</td>\n",
       "    </tr>\n",
       "    <tr>\n",
       "      <th>CH2</th>\n",
       "      <td>[CX4H2]</td>\n",
       "      <td>{\"CH2\": 1}</td>\n",
       "      <td>n</td>\n",
       "      <td>2</td>\n",
       "      <td>1</td>\n",
       "      <td>0.6744</td>\n",
       "      <td>0.540</td>\n",
       "      <td>14.02700</td>\n",
       "    </tr>\n",
       "    <tr>\n",
       "      <th>CH</th>\n",
       "      <td>[CX4H]</td>\n",
       "      <td>{\"CH\": 1}</td>\n",
       "      <td>n</td>\n",
       "      <td>3</td>\n",
       "      <td>1</td>\n",
       "      <td>0.4469</td>\n",
       "      <td>0.228</td>\n",
       "      <td>13.01900</td>\n",
       "    </tr>\n",
       "    <tr>\n",
       "      <th>C</th>\n",
       "      <td>[CX4H0]</td>\n",
       "      <td>{\"C\": 1}</td>\n",
       "      <td>n</td>\n",
       "      <td>4</td>\n",
       "      <td>1</td>\n",
       "      <td>0.2195</td>\n",
       "      <td>0.000</td>\n",
       "      <td>12.01100</td>\n",
       "    </tr>\n",
       "    <tr>\n",
       "      <th>CH2=CH</th>\n",
       "      <td>[CH2]=[CH]</td>\n",
       "      <td>{\"CH2=CH\": 1}</td>\n",
       "      <td>n</td>\n",
       "      <td>5</td>\n",
       "      <td>2</td>\n",
       "      <td>1.3454</td>\n",
       "      <td>1.176</td>\n",
       "      <td>27.04600</td>\n",
       "    </tr>\n",
       "    <tr>\n",
       "      <th>...</th>\n",
       "      <td>...</td>\n",
       "      <td>...</td>\n",
       "      <td>...</td>\n",
       "      <td>...</td>\n",
       "      <td>...</td>\n",
       "      <td>...</td>\n",
       "      <td>...</td>\n",
       "      <td>...</td>\n",
       "    </tr>\n",
       "    <tr>\n",
       "      <th>NCO</th>\n",
       "      <td>[NX2H0]=[CX2H0]=[OX1H0]</td>\n",
       "      <td>{\"NCO\": 1}</td>\n",
       "      <td>n</td>\n",
       "      <td>109</td>\n",
       "      <td>51</td>\n",
       "      <td>1.0567</td>\n",
       "      <td>0.732</td>\n",
       "      <td>42.01700</td>\n",
       "    </tr>\n",
       "    <tr>\n",
       "      <th>(CH2)2SU</th>\n",
       "      <td>[CH2]S(=O)(=O)[CH2]</td>\n",
       "      <td>{\"(CH2)2SU\": 1, \"CH2\": -1, \"CH2S\": -1}</td>\n",
       "      <td>n</td>\n",
       "      <td>118</td>\n",
       "      <td>55</td>\n",
       "      <td>2.6869</td>\n",
       "      <td>2.120</td>\n",
       "      <td>92.11620</td>\n",
       "    </tr>\n",
       "    <tr>\n",
       "      <th>CH2CHSU</th>\n",
       "      <td>[CH2]S(=O)(=O)[CH]</td>\n",
       "      <td>{\"CH2CHSU\": 1, \"CH\": -1, \"CH2S\": -1}</td>\n",
       "      <td>n</td>\n",
       "      <td>119</td>\n",
       "      <td>55</td>\n",
       "      <td>2.4595</td>\n",
       "      <td>1.808</td>\n",
       "      <td>91.10840</td>\n",
       "    </tr>\n",
       "    <tr>\n",
       "      <th>IMIDAZOL</th>\n",
       "      <td>[c]1:[c]:[n]:[c]:[n]:1</td>\n",
       "      <td>{\"IMIDAZOL\": 1, \"ACH\": -3}</td>\n",
       "      <td>n</td>\n",
       "      <td>178</td>\n",
       "      <td>84</td>\n",
       "      <td>2.0260</td>\n",
       "      <td>0.868</td>\n",
       "      <td>68.07820</td>\n",
       "    </tr>\n",
       "    <tr>\n",
       "      <th>BTI</th>\n",
       "      <td>C(F)(F)(F)S(=O)(=O)[N-]S(=O)(=O)C(F)(F)F</td>\n",
       "      <td>{\"BTI\": 1, \"CF3\": -2}</td>\n",
       "      <td>n</td>\n",
       "      <td>179</td>\n",
       "      <td>85</td>\n",
       "      <td>5.7740</td>\n",
       "      <td>4.932</td>\n",
       "      <td>279.91784</td>\n",
       "    </tr>\n",
       "  </tbody>\n",
       "</table>\n",
       "<p>113 rows × 8 columns</p>\n",
       "</div>"
      ],
      "text/plain": [
       "                                            smarts  ... molecular_weight\n",
       "group                                               ...                 \n",
       "CH3                                        [CX4H3]  ...         15.03500\n",
       "CH2                                        [CX4H2]  ...         14.02700\n",
       "CH                                          [CX4H]  ...         13.01900\n",
       "C                                          [CX4H0]  ...         12.01100\n",
       "CH2=CH                                  [CH2]=[CH]  ...         27.04600\n",
       "...                                            ...  ...              ...\n",
       "NCO                        [NX2H0]=[CX2H0]=[OX1H0]  ...         42.01700\n",
       "(CH2)2SU                       [CH2]S(=O)(=O)[CH2]  ...         92.11620\n",
       "CH2CHSU                         [CH2]S(=O)(=O)[CH]  ...         91.10840\n",
       "IMIDAZOL                    [c]1:[c]:[n]:[c]:[n]:1  ...         68.07820\n",
       "BTI       C(F)(F)(F)S(=O)(=O)[N-]S(=O)(=O)C(F)(F)F  ...        279.91784\n",
       "\n",
       "[113 rows x 8 columns]"
      ]
     },
     "execution_count": 4,
     "metadata": {},
     "output_type": "execute_result"
    }
   ],
   "source": [
    "from ugropy import unifac\n",
    "\n",
    "unifac.subgroups"
   ]
  },
  {
   "cell_type": "markdown",
   "metadata": {},
   "source": [
    "For example, let's check the SMARTS representation of the alcohol group OH:"
   ]
  },
  {
   "cell_type": "code",
   "execution_count": 5,
   "metadata": {},
   "outputs": [
    {
     "data": {
      "text/plain": [
       "smarts              [OH]([#6,Si])\n",
       "contribute              {\"OH\": 1}\n",
       "composed                        n\n",
       "subgroup_number                14\n",
       "main_group                      5\n",
       "R                             1.0\n",
       "Q                             1.2\n",
       "molecular_weight           17.007\n",
       "Name: OH, dtype: object"
      ]
     },
     "execution_count": 5,
     "metadata": {},
     "output_type": "execute_result"
    }
   ],
   "source": [
    "unifac.subgroups.loc[\"OH\"]"
   ]
  },
  {
   "cell_type": "markdown",
   "metadata": {},
   "source": [
    "The SMARTS representation it's telling us that the OH group it's, of course, a\n",
    "hydroxyl group bounded by a single aliphatic bound to either an aliphatic\n",
    "silicon or carbon atom. Then, if we try to get the UNIFAC groups for a molecule\n",
    "like hydrogen peroxide:"
   ]
  },
  {
   "cell_type": "code",
   "execution_count": 1,
   "metadata": {},
   "outputs": [
    {
     "data": {
      "text/plain": [
       "{}"
      ]
     },
     "execution_count": 1,
     "metadata": {},
     "output_type": "execute_result"
    }
   ],
   "source": [
    "from ugropy import get_groups, unifac\n",
    "\n",
    "get_groups(unifac, \"hydrogen peroxide\")"
   ]
  },
  {
   "cell_type": "markdown",
   "metadata": {},
   "source": [
    "The library \"fails\" to obtain any functional groups to accurately represent the\n",
    "molecule. This failure is represented by an empty dictionary. In this case, the\n",
    "\"fail\" is intentional, but it could fail due to errors in the groups SMARTS\n",
    "representations or the algorithm, resulting in an empty dictionary as well.\n",
    "Currently, the supported models are tested against the following numbers of\n",
    "molecules:\n",
    "\n",
    "- Classic liquid-vapor UNIFAC: 406\n",
    "- Predictive Soave-Redlich-Kwong (PSRK): 440\n",
    "- Joback: 285\n",
    "\n",
    "If you encounter a failing representation, you can examine the structure of the\n",
    "molecule and the list of functional groups of the failing model. If you\n",
    "determine that the molecule can indeed be modeled, you may have discovered a\n",
    "bug. Feel free to report the issue on the repository along with this\n",
    "information.\n",
    "\n",
    "#### More than one solution\n",
    "Models like UNIFAC or PSRK can have multiple solutions to represent a molecule,\n",
    "and ugropy tries its best to find them all. In such cases, you will receive a\n",
    "list of dictionaries, each containing one of the solutions found. Let's take a\n",
    "look."
   ]
  },
  {
   "cell_type": "code",
   "execution_count": 2,
   "metadata": {},
   "outputs": [
    {
     "data": {
      "image/jpeg": "[encoded data removed]",
      "image/png": "[encoded data removed]",
      "text/plain": [
       "<PIL.PngImagePlugin.PngImageFile image mode=RGB size=300x300>"
      ]
     },
     "execution_count": 2,
     "metadata": {},
     "output_type": "execute_result"
    }
   ],
   "source": [
    "from ugropy import Groups\n",
    "from rdkit.Chem import Draw\n",
    "\n",
    "\n",
    "mol = Groups(\"CCCC1=CC=C(CC(=O)OC)C=C1\", \"smiles\")\n",
    "\n",
    "Draw.MolToImage(mol.chem_object, highlightAtoms=[7])"
   ]
  },
  {
   "cell_type": "markdown",
   "metadata": {},
   "source": [
    "This molecule can be modeled in two ways depending on how we treat the CH2\n",
    "attached to the ring and the ester carbon (highlighted in red). We can either\n",
    "form an ACCH2 group and model the ester group with COO, or we can use an AC\n",
    "group and model the ester group with CH2COO."
   ]
  },
  {
   "cell_type": "code",
   "execution_count": 3,
   "metadata": {},
   "outputs": [
    {
     "name": "stdout",
     "output_type": "stream",
     "text": [
      "UNIFAC:\n",
      "[{'CH3': 2, 'ACH': 4, 'ACCH2': 1, 'CH2COO': 1, 'CH2': 1, 'AC': 1}\n",
      " {'CH3': 2, 'ACH': 4, 'ACCH2': 2, 'CH2': 1, 'COO': 1}]\n",
      "PSRK:\n",
      "[{'CH3': 2, 'ACH': 4, 'ACCH2': 1, 'CH2COO': 1, 'CH2': 1, 'AC': 1}\n",
      " {'CH3': 2, 'ACH': 4, 'ACCH2': 2, 'CH2': 1, 'COO': 1}]\n"
     ]
    }
   ],
   "source": [
    "print(\"UNIFAC:\")\n",
    "print(mol.unifac_groups)\n",
    "print(\"PSRK:\")\n",
    "print(mol.psrk_groups)"
   ]
  },
  {
   "cell_type": "markdown",
   "metadata": {},
   "source": [
    "This could be useful in cases where some groups have more interaction\n",
    "parameters than others in the mixture that you want to model with UNIFAC.\n",
    "Alternatively, you can try both approaches and compare if there are any\n",
    "differences."
   ]
  }
 ],
 "metadata": {
  "kernelspec": {
   "display_name": "ugropy",
   "language": "python",
   "name": "python3"
  },
  "language_info": {
   "codemirror_mode": {
    "name": "ipython",
    "version": 3
   },
   "file_extension": ".py",
   "mimetype": "text/x-python",
   "name": "python",
   "nbconvert_exporter": "python",
   "pygments_lexer": "ipython3",
   "version": "3.10.12"
  }
 },
 "nbformat": 4,
 "nbformat_minor": 2
}
