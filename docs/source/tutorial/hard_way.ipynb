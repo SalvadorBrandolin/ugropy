{
 "cells": [
  {
   "cell_type": "markdown",
   "metadata": {},
   "source": [
    "### The Hard? way\n",
    "\n",
    "#### Groups getters functions\n",
    "\n",
    "In some situation you may not require to instantiate all the models supported\n",
    "by `ugropy`, for that, you can call the functions individually."
   ]
  },
  {
   "cell_type": "code",
   "execution_count": 1,
   "metadata": {},
   "outputs": [
    {
     "name": "stdout",
     "output_type": "stream",
     "text": [
      "{'CH3': 2, 'CH2': 4}\n",
      "{'CH2': 3, 'CH3N': 1, 'C5H4N': 1, 'CH': 1}\n",
      "{'-CH3': 2, '=CH2': 1, '=C<': 1, 'ring-CH2-': 3, 'ring>CH-': 1, 'ring=CH-': 1, 'ring=C<': 1}\n"
     ]
    }
   ],
   "source": [
    "from ugropy import get_unifac_groups, get_psrk_groups, get_joback_groups\n",
    "\n",
    "print(get_unifac_groups(\"hexane\"))\n",
    "print(get_psrk_groups(\"nicotine\"))\n",
    "print(get_joback_groups(\"limonene\"))"
   ]
  },
  {
   "cell_type": "markdown",
   "metadata": {},
   "source": [
    "All this functions have the same signature:"
   ]
  },
  {
   "cell_type": "code",
   "execution_count": 2,
   "metadata": {},
   "outputs": [
    {
     "data": {
      "text/plain": [
       "{'CH2': 3, 'CH3N': 1, 'C5H4N': 1, 'CH': 1}"
      ]
     },
     "execution_count": 2,
     "metadata": {},
     "output_type": "execute_result"
    }
   ],
   "source": [
    "get_unifac_groups(\n",
    "    identifier=\"nicotine\",\n",
    "    identifier_type=\"name\"\n",
    ")"
   ]
  },
  {
   "cell_type": "markdown",
   "metadata": {},
   "source": [
    "As in the `Groups` class you can use \"name\", \"smiles\" or \"mol\" as identifier\n",
    "type. This can be useful for whatever you are doing and skip the overhead of\n",
    "setting models that you don't want. The `Groups` class is pretended to be used\n",
    "when you think: \"I want all of this molecule\"."
   ]
  },
  {
   "cell_type": "markdown",
   "metadata": {},
   "source": [
    "#### Joback\n",
    "\n",
    "For context, check the Joback's article: https://doi.org/10.1080/00986448708960487\n",
    "\n",
    "The Joback object is instantiated by the Group object as we saw in the previous \n",
    "tutorial but, a Joback object can be instantiated individually:"
   ]
  },
  {
   "cell_type": "code",
   "execution_count": 3,
   "metadata": {},
   "outputs": [
    {
     "data": {
      "text/plain": [
       "34.800000000000004"
      ]
     },
     "execution_count": 3,
     "metadata": {},
     "output_type": "execute_result"
    }
   ],
   "source": [
    "from ugropy import Joback\n",
    "\n",
    "joback_carvone = Joback(\"carvone\")\n",
    "\n",
    "joback_carvone.g_formation"
   ]
  },
  {
   "cell_type": "markdown",
   "metadata": {},
   "source": [
    "As a `Groups` object, `Joback` object's signature is (as in the `Groups` class\n",
    "you can use \"name\", \"smiles\" or \"mol\" as identifier type):"
   ]
  },
  {
   "cell_type": "code",
   "execution_count": 4,
   "metadata": {},
   "outputs": [],
   "source": [
    "carvone  = Joback(\n",
    "    identifier=\"carvone\",\n",
    "    identifier_type=\"name\",\n",
    "    normal_boiling_point=None\n",
    ")"
   ]
  },
  {
   "cell_type": "markdown",
   "metadata": {},
   "source": [
    "The normal_boiling_temperature, if provided, parameter is used in the\n",
    "Joback properties calculations instead of the Joback estimated normal boiling\n",
    "temperature. Let's see an example from the original Joback's article:"
   ]
  },
  {
   "cell_type": "code",
   "execution_count": 5,
   "metadata": {},
   "outputs": [
    {
     "name": "stdout",
     "output_type": "stream",
     "text": [
      "Estimated normal boiling point: 443.4 K\n",
      "Critical temperature: 675.1671746814928 K\n"
     ]
    }
   ],
   "source": [
    "mol = Joback(\"p-dichlorobenzene\")\n",
    "\n",
    "print(f\"Estimated normal boiling point: {mol.normal_boiling_point} K\")\n",
    "print(f\"Critical temperature: {mol.critical_temperature} K\")"
   ]
  },
  {
   "cell_type": "markdown",
   "metadata": {},
   "source": [
    "The critical temperature requires the normal boiling point to be estimated.\n",
    "Joback recommends that if the experimental value of the normal boiling point\n",
    "is known, it must be used instead of the estimated value."
   ]
  },
  {
   "cell_type": "code",
   "execution_count": 6,
   "metadata": {},
   "outputs": [
    {
     "name": "stdout",
     "output_type": "stream",
     "text": [
      "Experimental normal boiling point: 447.3 K\n",
      "Estimated normal boiling point: 443.4 K\n",
      "Critical temperature: 681.1057222260526 K\n"
     ]
    }
   ],
   "source": [
    "mol = Joback(\"p-dichlorobenzene\", normal_boiling_point=447.3)\n",
    "\n",
    "print(f\"Experimental normal boiling point: {mol.exp_nbt} K\")\n",
    "print(f\"Estimated normal boiling point: {mol.normal_boiling_point} K\")\n",
    "print(f\"Critical temperature: {mol.critical_temperature} K\")"
   ]
  },
  {
   "cell_type": "markdown",
   "metadata": {},
   "source": [
    "The experimental value of the critical temperature of p-dichlorobenzene is\n",
    "685 K. In this example the error is not so big but Joback warns that the errors\n",
    "could be important in other cases.\n",
    "\n",
    "Check the full Joback object documentation for units and more explanation:"
   ]
  },
  {
   "cell_type": "code",
   "execution_count": 7,
   "metadata": {},
   "outputs": [
    {
     "name": "stdout",
     "output_type": "stream",
     "text": [
      "\u001b[0;31mInit signature:\u001b[0m\n",
      "\u001b[0mJoback\u001b[0m\u001b[0;34m(\u001b[0m\u001b[0;34m\u001b[0m\n",
      "\u001b[0;34m\u001b[0m    \u001b[0midentifier\u001b[0m\u001b[0;34m:\u001b[0m \u001b[0mstr\u001b[0m\u001b[0;34m,\u001b[0m\u001b[0;34m\u001b[0m\n",
      "\u001b[0;34m\u001b[0m    \u001b[0midentifier_type\u001b[0m\u001b[0;34m:\u001b[0m \u001b[0mstr\u001b[0m \u001b[0;34m=\u001b[0m \u001b[0;34m'name'\u001b[0m\u001b[0;34m,\u001b[0m\u001b[0;34m\u001b[0m\n",
      "\u001b[0;34m\u001b[0m    \u001b[0mnormal_boiling_point\u001b[0m\u001b[0;34m:\u001b[0m \u001b[0mfloat\u001b[0m \u001b[0;34m=\u001b[0m \u001b[0;32mNone\u001b[0m\u001b[0;34m,\u001b[0m\u001b[0;34m\u001b[0m\n",
      "\u001b[0;34m\u001b[0m\u001b[0;34m)\u001b[0m \u001b[0;34m->\u001b[0m \u001b[0;32mNone\u001b[0m\u001b[0;34m\u001b[0m\u001b[0;34m\u001b[0m\u001b[0m\n",
      "\u001b[0;31mDocstring:\u001b[0m     \n",
      "Joback [1] group contribution properties estimator.\n",
      "\n",
      "Parameters\n",
      "----------\n",
      "identifier : str or rdkit.Chem.rdchem.Mol\n",
      "    Identifier of a molecule (name, SMILES, groups, or Chem.rdchem.Mol).\n",
      "    Example: you can use hexane, CCCCCC, {\"-CH3\": 2, \"-CH2-\": 4} for name,\n",
      "    SMILES and groups respectively.\n",
      "identifier_type : str, optional\n",
      "    Use 'name' to search a molecule by name, 'smiles' to provide the\n",
      "    molecule SMILES representation, 'groups' to provide Joback groups or\n",
      "    'mol' to provide a rdkit.Chem.rdchem.Mol object, by default \"name\".\n",
      "normal_boiling_point : float, optional\n",
      "    If provided, will be used to estimate critical temperature, acentric\n",
      "    factor, and vapor pressure instead of the estimated normal boiling\n",
      "    point, by default None.\n",
      "\n",
      "Attributes\n",
      "----------\n",
      "groups : dict\n",
      "    Joback functional groups of the molecule.\n",
      "exp_nbt : float\n",
      "    User provided experimental normal boiling point [K].\n",
      "critical_temperature : float\n",
      "    Joback estimated critical temperature [K].\n",
      "critical_pressure : float\n",
      "    Joback estimated critical pressure [bar].\n",
      "critical_volume : float\n",
      "    Joback estimated critical volume [cm³/mol].\n",
      "normal_boiling_point : float\n",
      "    Joback estimated normal boiling point [K].\n",
      "fusion_temperature : float\n",
      "    Joback estimated fusion temperature [K].\n",
      "h_formation : float\n",
      "    Joback estimated enthalpy of formation ideal gas at 298 K [kJ/mol].\n",
      "g_formation : float\n",
      "    Joback estimated Gibbs energy of formation ideal gas at 298 K [K].\n",
      "heat_capacity_ideal_gas_params : dict\n",
      "    Joback estimated Reid's ideal gas heat capacity equation parameters\n",
      "    [J/mol/K].\n",
      "h_fusion : float\n",
      "    Joback estimated fusion enthalpy [kJ/mol].\n",
      "h_vaporization : float\n",
      "    Joback estimated vaporization enthalpy at the normal boiling point\n",
      "    [kJ/mol].\n",
      "sum_na : float\n",
      "    Joback n_A contribution to liquid viscosity [N/s/m²].\n",
      "sum_nb : float\n",
      "    Joback n_B contribution to liquid viscosity [N/s/m²].\n",
      "molecular_weight : float\n",
      "    Molecular weight from Joback's subgroups [g/mol].\n",
      "acentric_factor : float\n",
      "    Acentric factor from Lee and Kesler's equation [2].\n",
      "vapor_pressure_params : dict\n",
      "    Vapor pressure G and k parameters for the Riedel-Plank-Miller [2]\n",
      "    equation [bar].\n",
      "\n",
      "Bibliography\n",
      "------------\n",
      "[1] Joback, K. G., & Reid, R. C. (1987). ESTIMATION OF PURE-COMPONENT\n",
      "PROPERTIES FROM GROUP-CONTRIBUTIONS. Chemical Engineering Communications,\n",
      "57(1–6), 233–243. https://doi.org/10.1080/00986448708960487\n",
      "\n",
      "[2] Joback, K. G. (1989). Designing molecules possessing desired physical\n",
      "property values [Thesis (Ph. D.), Massachusetts Institute of Technology].\n",
      "https://dspace.mit.edu/handle/1721.1/14191\n",
      "\u001b[0;31mFile:\u001b[0m           ~/code/ugropy/ugropy/joback.py\n",
      "\u001b[0;31mType:\u001b[0m           type\n",
      "\u001b[0;31mSubclasses:\u001b[0m     "
     ]
    }
   ],
   "source": [
    "Joback?"
   ]
  }
 ],
 "metadata": {
  "kernelspec": {
   "display_name": "ugropy",
   "language": "python",
   "name": "python3"
  },
  "language_info": {
   "codemirror_mode": {
    "name": "ipython",
    "version": 3
   },
   "file_extension": ".py",
   "mimetype": "text/x-python",
   "name": "python",
   "nbconvert_exporter": "python",
   "pygments_lexer": "ipython3",
   "version": "3.10.6"
  }
 },
 "nbformat": 4,
 "nbformat_minor": 2
}
