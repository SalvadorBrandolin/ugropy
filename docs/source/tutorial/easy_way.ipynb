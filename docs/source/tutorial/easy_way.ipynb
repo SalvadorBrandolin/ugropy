{
 "cells": [
  {
   "cell_type": "markdown",
   "metadata": {},
   "source": [
    "### The easy way\n",
    "\n",
    "#### The Groups class\n",
    "`ugropy` is kind of easy to use, but let's see what's has to offer.\n",
    "Now let's start with the easy ways...\n",
    "\n",
    "Let's use the `Groups` class to obtain the subgroups of all\n",
    "the models supported by `ugropy`."
   ]
  },
  {
   "cell_type": "code",
   "execution_count": 1,
   "metadata": {},
   "outputs": [
    {
     "data": {
      "text/plain": [
       "{'CH3': 2, 'CH2': 1, 'CH': 1, 'CH2=C': 1, 'CH=C': 1, 'CH2CO': 1}"
      ]
     },
     "execution_count": 1,
     "metadata": {},
     "output_type": "execute_result"
    }
   ],
   "source": [
    "from ugropy import Groups\n",
    "\n",
    "carvone = Groups(\"carvone\")\n",
    "\n",
    "carvone.unifac_groups"
   ]
  },
  {
   "cell_type": "markdown",
   "metadata": {},
   "source": [
    "Well, that was easy... `ugropy` uses\n",
    "[`PubChemPy`](https://github.com/mcs07/PubChemPy) to access to pubchem and\n",
    "obtain the SMILES representation of the molecule. ugropy uses the SMILES\n",
    "representation and the [`rdkit`](https://github.com/rdkit/rdkit) library to\n",
    "obtain the functional groups of the molecules.\n",
    "\n",
    "The complete signature of the `Groups` class is the following:"
   ]
  },
  {
   "cell_type": "code",
   "execution_count": 2,
   "metadata": {},
   "outputs": [],
   "source": [
    "carvone = Groups(\n",
    "    identifier=\"carvone\",\n",
    "    identifier_type=\"name\",\n",
    "    normal_boiling_temperature=None\n",
    ")"
   ]
  },
  {
   "cell_type": "markdown",
   "metadata": {},
   "source": [
    "The identifier_type argument (default: \"name\") can be set to \"name\", \"smiles\"\n",
    "or \"mol\".\n",
    "\n",
    "When \"name\" is set, `ugropy` will use the identifier argument to search in\n",
    "pubchem for the canonical SMILES of the molecule.\n",
    "\n",
    "When \"smiles\" is set, `ugropy` uses it directly, this also means that the \n",
    "library will not suffer the overhead of searching on pubchem. Try it yourself:"
   ]
  },
  {
   "cell_type": "code",
   "execution_count": 3,
   "metadata": {},
   "outputs": [
    {
     "data": {
      "text/plain": [
       "{'CH3': 2, 'CH2': 1, 'CH': 1, 'CH2=C': 1, 'CH=C': 1, 'CH2CO': 1}"
      ]
     },
     "execution_count": 3,
     "metadata": {},
     "output_type": "execute_result"
    }
   ],
   "source": [
    "carvone = Groups(\n",
    "    identifier=\"CC1=CCC(CC1=O)C(=C)C\",\n",
    "    identifier_type=\"smiles\",\n",
    "    normal_boiling_temperature=None\n",
    ")\n",
    "\n",
    "carvone.unifac_groups"
   ]
  },
  {
   "cell_type": "markdown",
   "metadata": {},
   "source": [
    "If you are familiar with the `rdkit` library you will now that is a tone of\n",
    "way to define a molecule (eg. SMILES, SMARTS, pdb file, InChIKey, etc). \n",
    "`ugropy` supports that you provide a Mol object from the `rdkit` library."
   ]
  },
  {
   "cell_type": "code",
   "execution_count": 4,
   "metadata": {},
   "outputs": [
    {
     "data": {
      "text/plain": [
       "{'CH3': 2, 'CH2': 1, 'CH': 1, 'CH2=C': 1, 'CH=C': 1, 'CH2CO': 1}"
      ]
     },
     "execution_count": 4,
     "metadata": {},
     "output_type": "execute_result"
    }
   ],
   "source": [
    "from rdkit import Chem\n",
    "\n",
    "mol_obj = Chem.MolFromInchi(\"InChI=1S/C10H14O/c1-7(2)9-5-4-8(3)10(11)6-9/h4,9H,1,5-6H2,2-3H3\")\n",
    "\n",
    "carvone = Groups(\n",
    "    identifier=mol_obj,\n",
    "    identifier_type=\"mol\",\n",
    "    normal_boiling_temperature=None\n",
    ")\n",
    "\n",
    "carvone.unifac_groups"
   ]
  },
  {
   "cell_type": "markdown",
   "metadata": {},
   "source": [
    "The current supported models are the classic liquid-vapor UNIFAC, Predictive\n",
    "Soave-Redlich-Kwong (PSRK) and Joback. You can access the functional groups\n",
    "this way:"
   ]
  },
  {
   "cell_type": "code",
   "execution_count": 5,
   "metadata": {},
   "outputs": [
    {
     "name": "stdout",
     "output_type": "stream",
     "text": [
      "{'CH3': 2, 'CH2': 1, 'CH': 1, 'CH2=C': 1, 'CH=C': 1, 'CH2CO': 1}\n",
      "{'CH3': 2, 'CH2': 1, 'CH': 1, 'CH2=C': 1, 'CH=C': 1, 'CH2CO': 1}\n",
      "{'-CH3': 2, '=CH2': 1, '=C<': 1, 'ring-CH2-': 2, 'ring>CH-': 1, 'ring=CH-': 1, 'ring=C<': 1, '>C=O (ring)': 1}\n"
     ]
    }
   ],
   "source": [
    "carvone = Groups(\"carvone\")\n",
    "\n",
    "print(carvone.unifac_groups)\n",
    "\n",
    "print(carvone.psrk_groups)\n",
    "\n",
    "print(carvone.joback.groups)"
   ]
  },
  {
   "cell_type": "markdown",
   "metadata": {},
   "source": [
    "You may notice that the joback attribute is and object. That's because \n",
    "is an Joback object, inside has all the properties that the Joback model can\n",
    "estimate. This will be discoused later in the Joback tutorial, but an example:"
   ]
  },
  {
   "cell_type": "code",
   "execution_count": 6,
   "metadata": {},
   "outputs": [
    {
     "data": {
      "text/plain": [
       "516.47"
      ]
     },
     "execution_count": 6,
     "metadata": {},
     "output_type": "execute_result"
    }
   ],
   "source": [
    "carvone.joback.normal_boiling_point"
   ]
  },
  {
   "cell_type": "markdown",
   "metadata": {},
   "source": [
    "Finally, the normal_boiling_temperature, if provided, parameter is used in the\n",
    "Joback properties calculations instead of the Joback estimated normal boiling\n",
    "temperature (see Joback tutorial)."
   ]
  },
  {
   "cell_type": "markdown",
   "metadata": {},
   "source": [
    "The full documentation of the `Groups` class may be accessed by here.\n",
    "Or you can do..."
   ]
  },
  {
   "cell_type": "code",
   "execution_count": 7,
   "metadata": {},
   "outputs": [
    {
     "name": "stdout",
     "output_type": "stream",
     "text": [
      "\u001b[0;31mInit signature:\u001b[0m\n",
      "\u001b[0mGroups\u001b[0m\u001b[0;34m(\u001b[0m\u001b[0;34m\u001b[0m\n",
      "\u001b[0;34m\u001b[0m    \u001b[0midentifier\u001b[0m\u001b[0;34m:\u001b[0m \u001b[0mstr\u001b[0m\u001b[0;34m,\u001b[0m\u001b[0;34m\u001b[0m\n",
      "\u001b[0;34m\u001b[0m    \u001b[0midentifier_type\u001b[0m\u001b[0;34m:\u001b[0m \u001b[0mstr\u001b[0m \u001b[0;34m=\u001b[0m \u001b[0;34m'name'\u001b[0m\u001b[0;34m,\u001b[0m\u001b[0;34m\u001b[0m\n",
      "\u001b[0;34m\u001b[0m    \u001b[0mnormal_boiling_temperature\u001b[0m\u001b[0;34m:\u001b[0m \u001b[0mfloat\u001b[0m \u001b[0;34m=\u001b[0m \u001b[0;32mNone\u001b[0m\u001b[0;34m,\u001b[0m\u001b[0;34m\u001b[0m\n",
      "\u001b[0;34m\u001b[0m\u001b[0;34m)\u001b[0m \u001b[0;34m->\u001b[0m \u001b[0;32mNone\u001b[0m\u001b[0;34m\u001b[0m\u001b[0;34m\u001b[0m\u001b[0m\n",
      "\u001b[0;31mDocstring:\u001b[0m     \n",
      "Group class.\n",
      "\n",
      "Stores the solved UNIFAC subgroups of a molecule.\n",
      "\n",
      "Parameters\n",
      "----------\n",
      "identifier : str or rdkit.Chem.rdchem.Mol\n",
      "    Identifier of a molecule (name, SMILES or Chem.rdchem.Mol). Example:\n",
      "    hexane or CCCCCC.\n",
      "identifier_type : str, optional\n",
      "    Use 'name' to search a molecule by name, 'smiles' to provide the\n",
      "    molecule SMILES representation or 'mol' to provide a\n",
      "    rdkit.Chem.rdchem.Mol object, by default \"name\".\n",
      "normal_boiling_temperature : float, optional\n",
      "    If provided, will be used to estimate critical temperature, acentric\n",
      "    factor, and vapor pressure instead of the estimated normal boiling\n",
      "    point in the Joback group contribution model, by default None.\n",
      "\n",
      "Attributes\n",
      "----------\n",
      "identifier : str\n",
      "    Identifier of a molecule. Example: hexane or CCCCCC.\n",
      "identifier_type : str, optional\n",
      "    Use 'name' to search a molecule by name or 'smiles' to provide the\n",
      "    molecule SMILES representation, by default \"name\".\n",
      "chem_object : rdkit.Chem.rdchem.Mol\n",
      "    RDKit Mol object.\n",
      "molecular_weight : float\n",
      "    Molecule's molecular weight from rdkit.Chem.Descriptors.MolWt [g/mol].\n",
      "unifac_groups : dict\n",
      "    Classic LV-UNIFAC subgroups.\n",
      "psrk_groups : dict\n",
      "    Predictive Soave-Redlich-Kwong subgroups.\n",
      "joback : Joback\n",
      "    Joback object that contains the Joback subgroups and the estimated\n",
      "    properties of the molecule.\n",
      "\u001b[0;31mFile:\u001b[0m           ~/code/ugropy/ugropy/groups.py\n",
      "\u001b[0;31mType:\u001b[0m           type\n",
      "\u001b[0;31mSubclasses:\u001b[0m     "
     ]
    }
   ],
   "source": [
    "Groups?"
   ]
  },
  {
   "cell_type": "markdown",
   "metadata": {},
   "source": [
    "If you are in an interactive environment you can do this cool thing thank to\n",
    "`rdkit`."
   ]
  },
  {
   "cell_type": "code",
   "execution_count": 8,
   "metadata": {},
   "outputs": [
    {
     "data": {
      "image/png": "[encoded data removed]",
      "text/plain": [
       "<rdkit.Chem.rdchem.Mol at 0x7fb4a84e4430>"
      ]
     },
     "execution_count": 8,
     "metadata": {},
     "output_type": "execute_result"
    }
   ],
   "source": [
    "carvone.chem_object"
   ]
  },
  {
   "cell_type": "markdown",
   "metadata": {},
   "source": [
    "#### WARNING"
   ]
  },
  {
   "cell_type": "markdown",
   "metadata": {},
   "source": [
    "For the UNIFAC, and PSRK groups the aldehyde group is change to HCO according\n",
    "to the discussion: https://github.com/ClapeyronThermo/Clapeyron.jl/issues/225\n",
    "\n",
    "This is more consistent with the ether groups and formate group."
   ]
  }
 ],
 "metadata": {
  "kernelspec": {
   "display_name": "ugropy",
   "language": "python",
   "name": "python3"
  },
  "language_info": {
   "codemirror_mode": {
    "name": "ipython",
    "version": 3
   },
   "file_extension": ".py",
   "mimetype": "text/x-python",
   "name": "python",
   "nbconvert_exporter": "python",
   "pygments_lexer": "ipython3",
   "version": "3.10.6"
  }
 },
 "nbformat": 4,
 "nbformat_minor": 2
}
