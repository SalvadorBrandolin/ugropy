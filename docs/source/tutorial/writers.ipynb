{
 "cells": [
  {
   "cell_type": "markdown",
   "metadata": {},
   "source": [
    "### Writers\n",
    "\n",
    "#### Clapeyron\n",
    "ugropy provides a writers module to build the input files of different \n",
    "thermodynamic libraries. For now, the only library supported is Clapeyron.jl\n",
    "\n",
    "To use this function you must:"
   ]
  },
  {
   "cell_type": "code",
   "execution_count": 1,
   "metadata": {},
   "outputs": [],
   "source": [
    "from ugropy import writers"
   ]
  },
  {
   "cell_type": "markdown",
   "metadata": {},
   "source": [
    "You must provide a list of dictionaries for the functional groups of UNIFAC and\n",
    "PSRK where each dictionary contains the functional groups of the molecules.\n",
    "\n",
    "If the user desire to write critical properties .csv files, the user must \n",
    "provide a list of Joback objects. Let's do it with a simple example:"
   ]
  },
  {
   "cell_type": "code",
   "execution_count": 2,
   "metadata": {},
   "outputs": [],
   "source": [
    "from ugropy import Groups\n",
    "\n",
    "names = [\"limonene\", \"adrenaline\", \"Trinitrotoluene\"]\n",
    "\n",
    "grps = [Groups(n) for n in names]\n",
    "\n",
    "# Write the csv files into a database directory\n",
    "writers.to_clapeyron(\n",
    "    molecules_names=names,\n",
    "    unifac_groups=[g.unifac_groups for g in grps],\n",
    "    psrk_groups=[g.psrk_groups for g in grps],\n",
    "    joback_objects=[g.joback for g in grps],\n",
    "    path=\"./database\"\n",
    ")"
   ]
  },
  {
   "cell_type": "markdown",
   "metadata": {},
   "source": [
    "In the example we create Groups object to obtain all the information of all\n",
    "the molecules. Then we use list comprehension to create the lists for the\n",
    "to_clapeyron function.\n",
    "\n",
    "The molecules_name argument receives in this case the names used to create the\n",
    "Groups objects, but could be different if you desire. This names will be set\n",
    "as the molecules names in the .csv files.\n",
    "\n",
    "You can omit some arguments if you desire:\n",
    "\n",
    "If you omit the psrk_groups argument: the PSRK_groups.csv will not be created.\n",
    "\n",
    "If you omit the unifac_groups argument: the ogUNIFAC_groups.csv will not be created.\n",
    "\n",
    "If you omit the joback_objects argument: the critical.csv will not be created."
   ]
  }
 ],
 "metadata": {
  "kernelspec": {
   "display_name": "ugropy",
   "language": "python",
   "name": "python3"
  },
  "language_info": {
   "codemirror_mode": {
    "name": "ipython",
    "version": 3
   },
   "file_extension": ".py",
   "mimetype": "text/x-python",
   "name": "python",
   "nbconvert_exporter": "python",
   "pygments_lexer": "ipython3",
   "version": "3.10.12"
  }
 },
 "nbformat": 4,
 "nbformat_minor": 2
}
