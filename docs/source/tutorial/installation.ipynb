{
 "cells": [
  {
   "cell_type": "markdown",
   "metadata": {},
   "source": [
    "### Installation\n",
    "\n",
    "At the moment ugropy is not uploaded in PyPI (will be soon).\n",
    "\n",
    "```\n",
    "pip install git+https://github.com/SalvadorBrandolin/ugropy.git\n",
    "```"
   ]
  }
 ],
 "metadata": {
  "language_info": {
   "name": "python"
  }
 },
 "nbformat": 4,
 "nbformat_minor": 2
}
