{
 "cells": [
  {
   "cell_type": "code",
   "execution_count": 10,
   "metadata": {},
   "outputs": [],
   "source": [
    "import numpy as np"
   ]
  },
  {
   "cell_type": "code",
   "execution_count": 11,
   "metadata": {},
   "outputs": [],
   "source": [
    "from rdkit import Chem\n",
    "from rdkit.Chem.Draw import IPythonConsole"
   ]
  },
  {
   "cell_type": "code",
   "execution_count": 23,
   "metadata": {},
   "outputs": [
    {
     "data": {
      "image/png": "[encoded data removed]",
      "text/plain": [
       "<rdkit.Chem.rdchem.Mol at 0x7f24d77d1d20>"
      ]
     },
     "execution_count": 23,
     "metadata": {},
     "output_type": "execute_result"
    }
   ],
   "source": [
    "smiles = \"OC1CC(OC2=CC=CC=C12)C1=CC=CC=C1\"\n",
    "\n",
    "chm = Chem.MolFromSmiles(smiles)\n",
    "\n",
    "chm"
   ]
  },
  {
   "cell_type": "code",
   "execution_count": 28,
   "metadata": {},
   "outputs": [
    {
     "name": "stderr",
     "output_type": "stream",
     "text": [
      "[11:36:10] SMARTS Parse Error: syntax error while parsing: [CH]O[!$([CH](=O))_100;!$(C(=O)[!O])_101;!CH3;!CH2\n",
      "[11:36:10] SMARTS Parse Error: Failed parsing SMARTS '[CH]O[!$([CH](=O))_100;!$(C(=O)[!O])_101;!CH3;!CH2' for input: '[CH]O[!$([CH](=O));!$(C(=O)[!O]);!CH3;!CH2'\n"
     ]
    },
    {
     "ename": "ArgumentError",
     "evalue": "Python argument types in\n    Mol.GetSubstructMatches(Mol, NoneType)\ndid not match C++ signature:\n    GetSubstructMatches(RDKit::ROMol self, RDKit::MolBundle query, RDKit::SubstructMatchParameters params)\n    GetSubstructMatches(RDKit::ROMol self, RDKit::ROMol query, RDKit::SubstructMatchParameters params)\n    GetSubstructMatches(RDKit::ROMol self, RDKit::MolBundle query, bool uniquify=True, bool useChirality=False, bool useQueryQueryMatches=False, unsigned int maxMatches=1000)\n    GetSubstructMatches(RDKit::ROMol self, RDKit::ROMol query, bool uniquify=True, bool useChirality=False, bool useQueryQueryMatches=False, unsigned int maxMatches=1000)",
     "output_type": "error",
     "traceback": [
      "\u001b[0;31m---------------------------------------------------------------------------\u001b[0m",
      "\u001b[0;31mArgumentError\u001b[0m                             Traceback (most recent call last)",
      "Cell \u001b[0;32mIn[28], line 1\u001b[0m\n\u001b[0;32m----> 1\u001b[0m ch2 \u001b[39m=\u001b[39m chm\u001b[39m.\u001b[39;49mGetSubstructMatches(Chem\u001b[39m.\u001b[39;49mMolFromSmarts(\u001b[39m\"\u001b[39;49m\u001b[39m[CH]O[!$([CH](=O));!$(C(=O)[!O]);!CH3;!CH2\u001b[39;49m\u001b[39m\"\u001b[39;49m))\n\u001b[1;32m      2\u001b[0m ch2\n",
      "File \u001b[0;32m~/.virtualenvs/ugropy/lib/python3.10/site-packages/rdkit/Chem/Draw/IPythonConsole.py:219\u001b[0m, in \u001b[0;36m_GetSubstructMatches\u001b[0;34m(mol, query, *args, **kwargs)\u001b[0m\n\u001b[1;32m    218\u001b[0m \u001b[39mdef\u001b[39;00m \u001b[39m_GetSubstructMatches\u001b[39m(mol, query, \u001b[39m*\u001b[39margs, \u001b[39m*\u001b[39m\u001b[39m*\u001b[39mkwargs):\n\u001b[0;32m--> 219\u001b[0m   res \u001b[39m=\u001b[39m mol\u001b[39m.\u001b[39;49m__GetSubstructMatches(query, \u001b[39m*\u001b[39;49margs, \u001b[39m*\u001b[39;49m\u001b[39m*\u001b[39;49mkwargs)\n\u001b[1;32m    220\u001b[0m   mol\u001b[39m.\u001b[39m__sssAtoms \u001b[39m=\u001b[39m []\n\u001b[1;32m    221\u001b[0m   \u001b[39mif\u001b[39;00m highlightSubstructs:\n",
      "\u001b[0;31mArgumentError\u001b[0m: Python argument types in\n    Mol.GetSubstructMatches(Mol, NoneType)\ndid not match C++ signature:\n    GetSubstructMatches(RDKit::ROMol self, RDKit::MolBundle query, RDKit::SubstructMatchParameters params)\n    GetSubstructMatches(RDKit::ROMol self, RDKit::ROMol query, RDKit::SubstructMatchParameters params)\n    GetSubstructMatches(RDKit::ROMol self, RDKit::MolBundle query, bool uniquify=True, bool useChirality=False, bool useQueryQueryMatches=False, unsigned int maxMatches=1000)\n    GetSubstructMatches(RDKit::ROMol self, RDKit::ROMol query, bool uniquify=True, bool useChirality=False, bool useQueryQueryMatches=False, unsigned int maxMatches=1000)"
     ]
    }
   ],
   "source": [
    "ch2 = chm.GetSubstructMatches(Chem.MolFromSmarts(\"[CH]O[$([#6])&!$([CH](=O));!$(C(=O)[!O]);!$([CH3]);!$([CH2])\"))\n",
    "ch2"
   ]
  },
  {
   "cell_type": "code",
   "execution_count": 14,
   "metadata": {},
   "outputs": [
    {
     "data": {
      "text/plain": [
       "array([ 6, 12, 13])"
      ]
     },
     "execution_count": 14,
     "metadata": {},
     "output_type": "execute_result"
    }
   ],
   "source": [
    "ch2_flat = np.array(ch2).flatten()\n",
    "ch2_flat"
   ]
  },
  {
   "cell_type": "code",
   "execution_count": 15,
   "metadata": {},
   "outputs": [
    {
     "data": {
      "text/plain": [
       "array([ 2, 12,  5,  6])"
      ]
     },
     "execution_count": 15,
     "metadata": {},
     "output_type": "execute_result"
    }
   ],
   "source": [
    "hide = chm.GetSubstructMatches(Chem.MolFromSmarts(\"[c][CH2]\"))\n",
    "\n",
    "hide_flat = np.array(hide).flatten()\n",
    "hide_flat"
   ]
  },
  {
   "cell_type": "code",
   "execution_count": 16,
   "metadata": {},
   "outputs": [
    {
     "data": {
      "text/plain": [
       "array([6, 7, 8])"
      ]
     },
     "execution_count": 16,
     "metadata": {},
     "output_type": "execute_result"
    }
   ],
   "source": [
    "hide2 = chm.GetSubstructMatches(Chem.MolFromSmarts(\"[CH2]O[!$([CH](=O));!$(C(=O)[!O]);CH2,CH,CH0,c&!CH3]\"))\n",
    "\n",
    "hide2_flat = np.array(hide2).flatten()\n",
    "hide2_flat"
   ]
  },
  {
   "cell_type": "code",
   "execution_count": 17,
   "metadata": {},
   "outputs": [],
   "source": [
    "hides = np.append(hide, hide2)"
   ]
  },
  {
   "cell_type": "code",
   "execution_count": 18,
   "metadata": {},
   "outputs": [
    {
     "data": {
      "text/plain": [
       "1"
      ]
     },
     "execution_count": 18,
     "metadata": {},
     "output_type": "execute_result"
    }
   ],
   "source": [
    "elementos_faltantes = np.setdiff1d(ch2_flat, hide)\n",
    "len(elementos_faltantes)"
   ]
  },
  {
   "cell_type": "code",
   "execution_count": 19,
   "metadata": {},
   "outputs": [],
   "source": [
    "import ugropy as ug"
   ]
  },
  {
   "cell_type": "code",
   "execution_count": 20,
   "metadata": {},
   "outputs": [],
   "source": [
    "g = ug.Groups(smiles, \"smiles\")"
   ]
  },
  {
   "cell_type": "code",
   "execution_count": 21,
   "metadata": {},
   "outputs": [
    {
     "data": {
      "text/plain": [
       "array([{'CH3': 4, 'C': 1, 'ACH': 4, 'ACCH2': 1, 'CH2O': 1, 'CH2': 1, 'AC': 1}],\n",
       "      dtype=object)"
      ]
     },
     "execution_count": 21,
     "metadata": {},
     "output_type": "execute_result"
    }
   ],
   "source": [
    "g.unifac_groups"
   ]
  }
 ],
 "metadata": {
  "kernelspec": {
   "display_name": "ugropy",
   "language": "python",
   "name": "python3"
  },
  "language_info": {
   "codemirror_mode": {
    "name": "ipython",
    "version": 3
   },
   "file_extension": ".py",
   "mimetype": "text/x-python",
   "name": "python",
   "nbconvert_exporter": "python",
   "pygments_lexer": "ipython3",
   "version": "3.10.6"
  },
  "orig_nbformat": 4
 },
 "nbformat": 4,
 "nbformat_minor": 2
}
