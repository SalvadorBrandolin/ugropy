{
 "cells": [
  {
   "cell_type": "code",
   "execution_count": 94,
   "metadata": {},
   "outputs": [],
   "source": [
    "from rdkit import Chem\n",
    "import pubchempy as pcp"
   ]
  },
  {
   "cell_type": "code",
   "execution_count": 202,
   "metadata": {},
   "outputs": [],
   "source": [
    "pcp_coso = pcp.get_compounds(\"3-methylpyridine\", \"name\")[0]\n",
    "\n",
    "smiles = pcp_coso.canonical_smiles\n",
    "\n",
    "chm = Chem.MolFromSmiles(smiles)"
   ]
  },
  {
   "cell_type": "code",
   "execution_count": 201,
   "metadata": {},
   "outputs": [
    {
     "data": {
      "text/plain": [
       "0"
      ]
     },
     "execution_count": 201,
     "metadata": {},
     "output_type": "execute_result"
    }
   ],
   "source": [
    "func_group = Chem.MolFromSmarts(\"c1ccncc1[A]\")\n",
    "\n",
    "match = chm.GetSubstructMatches(func_group)\n",
    "\n",
    "len(match)"
   ]
  },
  {
   "cell_type": "code",
   "execution_count": 207,
   "metadata": {},
   "outputs": [
    {
     "data": {
      "text/plain": [
       "['tuvieja', 'tumama']"
      ]
     },
     "execution_count": 207,
     "metadata": {},
     "output_type": "execute_result"
    }
   ],
   "source": [
    "a = \"tuvieja tumama\"\n",
    "\n",
    "a.split()"
   ]
  },
  {
   "cell_type": "markdown",
   "metadata": {},
   "source": [
    "ADHOCS:\n",
    "methanol\n",
    "formaldehyde?\n",
    "\n",
    "grupos problema:\n",
    "- CH3CO tiene que restar 1 a CH3\n",
    "- CH2CO tiene que restar 1 a CH2\n",
    "- CH3COO tiene que restar 1 a CH3\n",
    "- CH2COO tiene que restar 1 a CH2\n",
    "- CH3O tiene que restar 1 a CH3\n",
    "- CH2O tiene que restar 1 a CH2\n",
    "- CHO tiene que restar 1 a CH\n",
    "- THF resta 1 a CH2O, no resta a CH2 porque CH2O ya le resta\n",
    "- CH3NH2 resta 1 a CH3\n",
    "- CH2NH2 resta 1 a CH2\n",
    "- CHNH2 resta 1 a CH\n",
    "- C5H5N resta 5 a ACH"
   ]
  },
  {
   "cell_type": "code",
   "execution_count": 217,
   "metadata": {},
   "outputs": [],
   "source": [
    "import json\n",
    "import pandas as pd\n",
    "\n",
    "coso = {\"coso\": '{\"CH3\": 1, \"CH2\":2}', \"tu mama\": 1}\n",
    "\n",
    "df = pd.DataFrame(coso, index=[\"lala\"])\n"
   ]
  },
  {
   "cell_type": "code",
   "execution_count": 223,
   "metadata": {},
   "outputs": [
    {
     "data": {
      "text/plain": [
       "{'CH3': 1, 'CH2': 2}"
      ]
     },
     "execution_count": 223,
     "metadata": {},
     "output_type": "execute_result"
    }
   ],
   "source": [
    "json.loads(df[\"coso\"].values[0])"
   ]
  }
 ],
 "metadata": {
  "kernelspec": {
   "display_name": "dipypr",
   "language": "python",
   "name": "python3"
  },
  "language_info": {
   "codemirror_mode": {
    "name": "ipython",
    "version": 3
   },
   "file_extension": ".py",
   "mimetype": "text/x-python",
   "name": "python",
   "nbconvert_exporter": "python",
   "pygments_lexer": "ipython3",
   "version": "3.10.6"
  },
  "orig_nbformat": 4
 },
 "nbformat": 4,
 "nbformat_minor": 2
}
