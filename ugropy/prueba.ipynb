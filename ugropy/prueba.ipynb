{
 "cells": [
  {
   "cell_type": "code",
   "execution_count": 1,
   "metadata": {},
   "outputs": [],
   "source": [
    "from rdkit import Chem\n",
    "import pubchempy as pcp"
   ]
  },
  {
   "cell_type": "code",
   "execution_count": 8,
   "metadata": {},
   "outputs": [],
   "source": [
    "pcp_coso = pcp.get_compounds(\"pyridine\", \"name\")[0]\n",
    "\n",
    "smiles = pcp_coso.canonical_smiles\n",
    "\n",
    "chm = Chem.MolFromSmiles(smiles)"
   ]
  },
  {
   "cell_type": "code",
   "execution_count": 10,
   "metadata": {},
   "outputs": [
    {
     "data": {
      "text/plain": [
       "0"
      ]
     },
     "execution_count": 10,
     "metadata": {},
     "output_type": "execute_result"
    }
   ],
   "source": [
    "func_group = Chem.MolFromSmarts(\"[cH]1[cH][cH][n]=[cH][cH]1\")\n",
    "\n",
    "match = chm.GetSubstructMatches(func_group)\n",
    "\n",
    "len(match)"
   ]
  },
  {
   "cell_type": "code",
   "execution_count": 4,
   "metadata": {},
   "outputs": [
    {
     "data": {
      "image/png": "[encoded data removed]",
      "text/plain": [
       "<rdkit.Chem.rdchem.Mol at 0x7f6ff2b37f40>"
      ]
     },
     "execution_count": 4,
     "metadata": {},
     "output_type": "execute_result"
    }
   ],
   "source": [
    "func_group = Chem.MolFromSmarts(\"[n](=[cH]1)-[cH]=[cH]-[cH]=[cH]-1\")\n",
    "\n",
    "func_group"
   ]
  },
  {
   "cell_type": "markdown",
   "metadata": {},
   "source": [
    "ADHOCS:\n",
    "methanol\n",
    "formaldehyde?\n",
    "\n",
    "grupos problema:\n",
    "- CH3CO tiene que restar 1 a CH3\n",
    "- CH2CO tiene que restar 1 a CH2\n",
    "- CH3COO tiene que restar 1 a CH3\n",
    "- CH2COO tiene que restar 1 a CH2\n",
    "- CH3O tiene que restar 1 a CH3\n",
    "- CH2O tiene que restar 1 a CH2\n",
    "- CHO tiene que restar 1 a CH\n",
    "- THF resta 1 a CH2O, no resta a CH2 porque CH2O ya le resta\n",
    "- CH3NH2 resta 1 a CH3\n",
    "- CH2NH2 resta 1 a CH2\n",
    "- CHNH2 resta 1 a CH\n",
    "- C5H5N resta 5 a ACH"
   ]
  }
 ],
 "metadata": {
  "kernelspec": {
   "display_name": "dipypr",
   "language": "python",
   "name": "python3"
  },
  "language_info": {
   "codemirror_mode": {
    "name": "ipython",
    "version": 3
   },
   "file_extension": ".py",
   "mimetype": "text/x-python",
   "name": "python",
   "nbconvert_exporter": "python",
   "pygments_lexer": "ipython3",
   "version": "3.10.6"
  },
  "orig_nbformat": 4
 },
 "nbformat": 4,
 "nbformat_minor": 2
}
