{
 "cells": [
  {
   "cell_type": "code",
   "execution_count": 1,
   "metadata": {},
   "outputs": [],
   "source": [
    "from rdkit import Chem\n",
    "import pubchempy as pcp"
   ]
  },
  {
   "cell_type": "code",
   "execution_count": 2,
   "metadata": {},
   "outputs": [],
   "source": [
    "from rdkit.Chem import Descriptors"
   ]
  },
  {
   "cell_type": "code",
   "execution_count": 5,
   "metadata": {},
   "outputs": [],
   "source": [
    "pcp_coso = pcp.get_compounds(\"water\", \"name\")[0]\n",
    "\n",
    "smiles = pcp_coso.canonical_smiles\n",
    "\n",
    "chm = Chem.MolFromSmiles(smiles)"
   ]
  },
  {
   "cell_type": "code",
   "execution_count": 4,
   "metadata": {},
   "outputs": [
    {
     "data": {
      "text/plain": [
       "rdkit.Chem.rdchem.Mol"
      ]
     },
     "execution_count": 4,
     "metadata": {},
     "output_type": "execute_result"
    }
   ],
   "source": [
    "type(chm)"
   ]
  },
  {
   "cell_type": "code",
   "execution_count": 8,
   "metadata": {},
   "outputs": [
    {
     "data": {
      "text/plain": [
       "0"
      ]
     },
     "execution_count": 8,
     "metadata": {},
     "output_type": "execute_result"
    }
   ],
   "source": [
    "smarts = \"[CH3](*)\"\n",
    "\n",
    "func_group = Chem.MolFromSmarts(smarts)\n",
    "\n",
    "match = chm.GetSubstructMatches(func_group)\n",
    "\n",
    "len(match)"
   ]
  },
  {
   "cell_type": "code",
   "execution_count": 9,
   "metadata": {},
   "outputs": [
    {
     "name": "stderr",
     "output_type": "stream",
     "text": [
      "[15:08:58] \n",
      "\n",
      "****\n",
      "Pre-condition Violation\n",
      "getNumImplicitHs() called without preceding call to calcImplicitValence()\n",
      "Violation occurred on line 297 in file /project/build/temp.linux-x86_64-cpython-310/rdkit/Code/GraphMol/Atom.cpp\n",
      "Failed Expression: d_implicitValence > -1\n",
      "****\n",
      "\n"
     ]
    },
    {
     "ename": "RuntimeError",
     "evalue": "Pre-condition Violation\n\tgetNumImplicitHs() called without preceding call to calcImplicitValence()\n\tViolation occurred on line 297 in file Code/GraphMol/Atom.cpp\n\tFailed Expression: d_implicitValence > -1\n\tRDKIT: 2023.03.2\n\tBOOST: 1_78\n",
     "output_type": "error",
     "traceback": [
      "\u001b[0;31m---------------------------------------------------------------------------\u001b[0m",
      "\u001b[0;31mRuntimeError\u001b[0m                              Traceback (most recent call last)",
      "Cell \u001b[0;32mIn[9], line 1\u001b[0m\n\u001b[0;32m----> 1\u001b[0m Descriptors\u001b[39m.\u001b[39;49mMolWt(func_group)\n",
      "File \u001b[0;32m~/.virtualenvs/ugropy/lib/python3.10/site-packages/rdkit/Chem/Descriptors.py:72\u001b[0m, in \u001b[0;36m<lambda>\u001b[0;34m(*x, **y)\u001b[0m\n\u001b[1;32m     68\u001b[0m           _descList\u001b[39m.\u001b[39mappend((name, thing))\n\u001b[1;32m     69\u001b[0m   descList \u001b[39m=\u001b[39m _descList\n\u001b[0;32m---> 72\u001b[0m MolWt \u001b[39m=\u001b[39m \u001b[39mlambda\u001b[39;00m \u001b[39m*\u001b[39mx, \u001b[39m*\u001b[39m\u001b[39m*\u001b[39my: _rdMolDescriptors\u001b[39m.\u001b[39;49m_CalcMolWt(\u001b[39m*\u001b[39;49mx, \u001b[39m*\u001b[39;49m\u001b[39m*\u001b[39;49my)\n\u001b[1;32m     73\u001b[0m MolWt\u001b[39m.\u001b[39mversion \u001b[39m=\u001b[39m _rdMolDescriptors\u001b[39m.\u001b[39m_CalcMolWt_version\n\u001b[1;32m     74\u001b[0m MolWt\u001b[39m.\u001b[39m\u001b[39m__doc__\u001b[39m \u001b[39m=\u001b[39m \u001b[39m\"\"\"\u001b[39m\u001b[39mThe average molecular weight of the molecule\u001b[39m\n\u001b[1;32m     75\u001b[0m \n\u001b[1;32m     76\u001b[0m \u001b[39m  >>> MolWt(Chem.MolFromSmiles(\u001b[39m\u001b[39m'\u001b[39m\u001b[39mCC\u001b[39m\u001b[39m'\u001b[39m\u001b[39m))\u001b[39m\n\u001b[0;32m   (...)\u001b[0m\n\u001b[1;32m     80\u001b[0m \n\u001b[1;32m     81\u001b[0m \u001b[39m\"\"\"\u001b[39m\n",
      "\u001b[0;31mRuntimeError\u001b[0m: Pre-condition Violation\n\tgetNumImplicitHs() called without preceding call to calcImplicitValence()\n\tViolation occurred on line 297 in file Code/GraphMol/Atom.cpp\n\tFailed Expression: d_implicitValence > -1\n\tRDKIT: 2023.03.2\n\tBOOST: 1_78\n"
     ]
    }
   ],
   "source": [
    "Descriptors.MolWt(func_group)"
   ]
  },
  {
   "cell_type": "code",
   "execution_count": 92,
   "metadata": {},
   "outputs": [
    {
     "data": {
      "image/png": "[encoded data removed]",
      "text/plain": [
       "<rdkit.Chem.rdchem.Mol at 0x7f3c713dfc30>"
      ]
     },
     "execution_count": 92,
     "metadata": {},
     "output_type": "execute_result"
    }
   ],
   "source": [
    "func_group = Chem.MolFromSmarts(smarts)\n",
    "\n",
    "func_group"
   ]
  },
  {
   "cell_type": "markdown",
   "metadata": {},
   "source": [
    "ADHOCS:\n",
    "methanol\n",
    "formaldehyde?\n",
    "\n",
    "grupos problema:\n",
    "- CH3CO tiene que restar 1 a CH3\n",
    "- CH2CO tiene que restar 1 a CH2\n",
    "- CH3COO tiene que restar 1 a CH3\n",
    "- CH2COO tiene que restar 1 a CH2\n",
    "- CH3O tiene que restar 1 a CH3\n",
    "- CH2O tiene que restar 1 a CH2\n",
    "- CHO tiene que restar 1 a CH\n",
    "- THF resta 1 a CH2O, no resta a CH2 porque CH2O ya le resta\n",
    "- CH3NH2 resta 1 a CH3\n",
    "- CH2NH2 resta 1 a CH2\n",
    "- CHNH2 resta 1 a CH\n",
    "- C5H5N resta 5 a ACH"
   ]
  },
  {
   "cell_type": "code",
   "execution_count": 3,
   "metadata": {},
   "outputs": [],
   "source": [
    "import json"
   ]
  },
  {
   "cell_type": "code",
   "execution_count": 4,
   "metadata": {},
   "outputs": [
    {
     "data": {
      "text/plain": [
       "['[CH]O[CH]']"
      ]
     },
     "execution_count": 4,
     "metadata": {},
     "output_type": "execute_result"
    }
   ],
   "source": [
    "s = \"[CH]O[CH]\".split()\n",
    "\n",
    "s"
   ]
  },
  {
   "cell_type": "code",
   "execution_count": 65,
   "metadata": {},
   "outputs": [],
   "source": [
    "import pandas as pd\n",
    "import numpy as np"
   ]
  },
  {
   "cell_type": "code",
   "execution_count": 68,
   "metadata": {},
   "outputs": [
    {
     "data": {
      "text/plain": [
       "pandas.core.indexes.base.Index"
      ]
     },
     "execution_count": 68,
     "metadata": {},
     "output_type": "execute_result"
    }
   ],
   "source": [
    "df = pd.DataFrame(np.array([0,1,3]), index=[\"a\", \"b\", \"c\"])\n",
    "type(df.index)"
   ]
  },
  {
   "cell_type": "code",
   "execution_count": 78,
   "metadata": {},
   "outputs": [
    {
     "data": {
      "text/plain": [
       "array([{'a': 1, 'b': 2}], dtype=object)"
      ]
     },
     "execution_count": 78,
     "metadata": {},
     "output_type": "execute_result"
    }
   ],
   "source": [
    "a = {\"a\": 1, \"b\": 2}\n",
    "b = {\"a\": 1, \"b\": 2}\n",
    "c = {\"a\": 1, \"b\": 2}\n",
    "d = {\"a\": 1, \"b\": 2}\n",
    "e = {\"a\": 1, \"b\": 2}\n",
    "\n",
    "coso = np.array([a,b,c,d,e])\n",
    "\n",
    "dict_strs = np.array([str(d) for d in coso])\n",
    "unique_indices = np.unique(dict_strs, return_index=True)[1]\n",
    "array_sin_duplicados = coso[unique_indices]\n",
    "\n",
    "array_sin_duplicados\n"
   ]
  },
  {
   "cell_type": "code",
   "execution_count": 9,
   "metadata": {},
   "outputs": [
    {
     "data": {
      "image/png": "[encoded data removed]",
      "text/plain": [
       "<rdkit.Chem.rdchem.Mol at 0x7fad9c5ce3b0>"
      ]
     },
     "execution_count": 9,
     "metadata": {},
     "output_type": "execute_result"
    }
   ],
   "source": [
    "from rdkit import Chem\n",
    "import pubchempy as pcp\n",
    "\n",
    "#a = Chem.MolFromSmarts(\"[Si](-[#1])-[*]\")\n",
    "a = Chem.MolFromSmiles(\"C[Si]\")\n",
    "\n",
    "a\n",
    "\n",
    "func_group = Chem.MolFromSmarts(\"[#1]\")\n",
    "matches = chem_object.GetSubstructMatches(func_group)"
   ]
  },
  {
   "cell_type": "code",
   "execution_count": 88,
   "metadata": {},
   "outputs": [
    {
     "data": {
      "text/plain": [
       "[('b',),\n",
       " ('c',),\n",
       " ('a',),\n",
       " ('a', 'a'),\n",
       " ('a', 'b'),\n",
       " ('b', 'c'),\n",
       " ('a', 'c'),\n",
       " ('a', 'a', 'b'),\n",
       " ('a', 'b', 'c'),\n",
       " ('a', 'a', 'c'),\n",
       " ('a', 'a', 'b', 'c')]"
      ]
     },
     "execution_count": 88,
     "metadata": {},
     "output_type": "execute_result"
    }
   ],
   "source": [
    "from itertools import combinations\n",
    "\n",
    "items_list = ['a', \"a\", 'b', 'c']\n",
    "\n",
    "result = []\n",
    "for i in range(1, len(items_list) + 1):\n",
    "    for combo in set(combinations(items_list, i)):\n",
    "        result.append(combo)\n",
    "\n",
    "\n",
    "result"
   ]
  },
  {
   "cell_type": "code",
   "execution_count": 85,
   "metadata": {},
   "outputs": [
    {
     "name": "stdout",
     "output_type": "stream",
     "text": [
      "[('b',), ('c',), ('a',), ('a', 'a'), ('a', 'b'), ('b', 'c'), ('a', 'c'), ('a', 'a', 'b'), ('a', 'b', 'c'), ('a', 'a', 'c'), ('a', 'a', 'b', 'c')]\n"
     ]
    }
   ],
   "source": [
    "from itertools import combinations\n",
    "\n",
    "items_list = ['a', 'a', 'b', 'c']\n",
    "\n",
    "result = []\n",
    "for i in range(1, len(items_list) + 1):\n",
    "    unique_combos = set(combinations(items_list, i))  # Convert to set to remove duplicates\n",
    "    result.extend(unique_combos)  # Extend the result list with unique combinations\n",
    "\n",
    "result = list(result)  # Convert back to list if needed\n",
    "print(result)"
   ]
  }
 ],
 "metadata": {
  "kernelspec": {
   "display_name": "dipypr",
   "language": "python",
   "name": "python3"
  },
  "language_info": {
   "codemirror_mode": {
    "name": "ipython",
    "version": 3
   },
   "file_extension": ".py",
   "mimetype": "text/x-python",
   "name": "python",
   "nbconvert_exporter": "python",
   "pygments_lexer": "ipython3",
   "version": "3.10.12"
  },
  "orig_nbformat": 4
 },
 "nbformat": 4,
 "nbformat_minor": 2
}
