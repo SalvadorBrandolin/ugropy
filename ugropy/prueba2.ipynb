{
 "cells": [
  {
   "cell_type": "code",
   "execution_count": 3,
   "metadata": {},
   "outputs": [
    {
     "name": "stdout",
     "output_type": "stream",
     "text": [
      "Diccionarios con longitud mínima:\n",
      "{'m': 100}\n",
      "{'f': 800}\n"
     ]
    }
   ],
   "source": [
    "import numpy as np\n",
    "\n",
    "# Ejemplo de array con diccionarios\n",
    "array_con_diccionarios = np.array([\n",
    "    {'a': 1, 'b': 2, 'c': 3},\n",
    "    {'x': 10, 'y': 20},\n",
    "    {'m': 100},\n",
    "    {'f': 800},\n",
    "    {'p': 5, 'q': 7}\n",
    "])\n",
    "\n",
    "# Calcular la longitud de cada diccionario\n",
    "longitudes = np.array([len(d) for d in array_con_diccionarios])\n",
    "\n",
    "# Encontrar la longitud mínima\n",
    "longitud_minima = np.min(longitudes)\n",
    "\n",
    "# Encontrar los índices de los diccionarios con la longitud mínima\n",
    "indices_min_longitud = np.where(longitudes == longitud_minima)[0]\n",
    "\n",
    "# Obtener los diccionarios con la longitud mínima\n",
    "diccionarios_min_longitud = array_con_diccionarios[indices_min_longitud]\n",
    "\n",
    "print(\"Diccionarios con longitud mínima:\")\n",
    "for d in diccionarios_min_longitud:\n",
    "    print(d)\n",
    "\n"
   ]
  },
  {
   "cell_type": "code",
   "execution_count": 11,
   "metadata": {},
   "outputs": [
    {
     "name": "stdout",
     "output_type": "stream",
     "text": [
      "hi\n"
     ]
    }
   ],
   "source": [
    "d = {\"a\": 2, \"b\": -1, \"c\": 5}\n",
    "\n",
    "if not all(val > 0 for val in d.values()):\n",
    "    print(\"hi\")"
   ]
  },
  {
   "cell_type": "code",
   "execution_count": 6,
   "metadata": {},
   "outputs": [
    {
     "data": {
      "text/plain": [
       "dict_values([2, -1, 5])"
      ]
     },
     "execution_count": 6,
     "metadata": {},
     "output_type": "execute_result"
    }
   ],
   "source": [
    "d.values()"
   ]
  },
  {
   "cell_type": "code",
   "execution_count": 10,
   "metadata": {},
   "outputs": [
    {
     "data": {
      "text/plain": [
       "[1, 2, 3, (1, 2, 3)]"
      ]
     },
     "execution_count": 10,
     "metadata": {},
     "output_type": "execute_result"
    }
   ],
   "source": [
    "import numpy as np\n",
    "\n",
    "a = [1,2,3]\n",
    "tupla = (1, 2, 3)\n",
    "\n",
    "a.append(tupla)\n",
    "\n",
    "a"
   ]
  },
  {
   "cell_type": "code",
   "execution_count": 8,
   "metadata": {},
   "outputs": [
    {
     "ename": "ValueError",
     "evalue": "setting an array element with a sequence. The requested array has an inhomogeneous shape after 1 dimensions. The detected shape was (4,) + inhomogeneous part.",
     "output_type": "error",
     "traceback": [
      "\u001b[0;31m---------------------------------------------------------------------------\u001b[0m",
      "\u001b[0;31mValueError\u001b[0m                                Traceback (most recent call last)",
      "Cell \u001b[0;32mIn[8], line 1\u001b[0m\n\u001b[0;32m----> 1\u001b[0m np\u001b[39m.\u001b[39;49marray([\u001b[39m1\u001b[39;49m,\u001b[39m2\u001b[39;49m,\u001b[39m3\u001b[39;49m,(\u001b[39m1\u001b[39;49m,\u001b[39m2\u001b[39;49m,\u001b[39m3\u001b[39;49m,\u001b[39m4\u001b[39;49m)])\n",
      "\u001b[0;31mValueError\u001b[0m: setting an array element with a sequence. The requested array has an inhomogeneous shape after 1 dimensions. The detected shape was (4,) + inhomogeneous part."
     ]
    }
   ],
   "source": [
    "np.array([1,2,3,(1,2,3,4)])"
   ]
  },
  {
   "cell_type": "code",
   "execution_count": 12,
   "metadata": {},
   "outputs": [],
   "source": [
    "from ugropy import Groups\n",
    "\n"
   ]
  },
  {
   "cell_type": "code",
   "execution_count": 14,
   "metadata": {},
   "outputs": [
    {
     "data": {
      "text/plain": [
       "array([{'ACH': 4, 'ACCH2': 1, 'CH2O': 1, 'AC': 1},\n",
       "       {'CH2': 1, 'ACH': 4, 'CH2O': 1, 'AC': 2}], dtype=object)"
      ]
     },
     "execution_count": 14,
     "metadata": {},
     "output_type": "execute_result"
    }
   ],
   "source": [
    "groups = Groups(\"C12=CC=CC=C1COC2\", identifier_type=\"smiles\")\n",
    "\n",
    "groups.unifac_groups"
   ]
  },
  {
   "cell_type": "code",
   "execution_count": 17,
   "metadata": {},
   "outputs": [
    {
     "data": {
      "text/plain": [
       "6"
      ]
     },
     "execution_count": 17,
     "metadata": {},
     "output_type": "execute_result"
    }
   ],
   "source": [
    "d = {\"a\": 2, \"b\": -1, \"c\": 5}\n",
    "\n",
    "np.sum(list(d.values()))"
   ]
  }
 ],
 "metadata": {
  "kernelspec": {
   "display_name": "ugropy",
   "language": "python",
   "name": "python3"
  },
  "language_info": {
   "codemirror_mode": {
    "name": "ipython",
    "version": 3
   },
   "file_extension": ".py",
   "mimetype": "text/x-python",
   "name": "python",
   "nbconvert_exporter": "python",
   "pygments_lexer": "ipython3",
   "version": "3.10.12"
  },
  "orig_nbformat": 4
 },
 "nbformat": 4,
 "nbformat_minor": 2
}
