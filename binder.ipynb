{
 "cells": [
  {
   "cell_type": "markdown",
   "metadata": {},
   "source": [
    "# Welcome to the ugropy's Binder\n",
    "\n",
    "You can use this notebook to try the basics features of ugropy. You can \n",
    "check the full tutorial here: https://ugropy.readthedocs.io/en/latest/index.html\n",
    "\n",
    "Let's use the Groups class to obtain information of the desired molecules:"
   ]
  },
  {
   "cell_type": "code",
   "execution_count": 35,
   "metadata": {},
   "outputs": [],
   "source": [
    "from ugropy import Groups\n",
    "\n",
    "# Write the molecule's name as it appears on pubchem\n",
    "molecule_name = \"ethanol\"\n",
    "\n",
    "mol = Groups(molecule_name)"
   ]
  },
  {
   "cell_type": "markdown",
   "metadata": {},
   "source": [
    "Get groups information and properties from the Joback model"
   ]
  },
  {
   "cell_type": "code",
   "execution_count": 36,
   "metadata": {},
   "outputs": [
    {
     "name": "stdout",
     "output_type": "stream",
     "text": [
      "{'CH3': 1, 'CH2': 1, 'OH': 1}\n",
      "{'CH3': 1, 'CH2': 1, 'OH': 1}\n",
      "{'-CH3': 1, '-CH2-': 1, '-OH (alcohol)': 1}\n"
     ]
    }
   ],
   "source": [
    "print(mol.unifac_groups)\n",
    "print(mol.psrk_groups)\n",
    "print(mol.joback.groups)"
   ]
  },
  {
   "cell_type": "code",
   "execution_count": 37,
   "metadata": {},
   "outputs": [
    {
     "name": "stdout",
     "output_type": "stream",
     "text": [
      "57.56641437226128\n",
      "499.40737356625846\n",
      "1.702089531406276\n"
     ]
    }
   ],
   "source": [
    "# Experimental value of ethanol's critical pressure is 61.37 bar\n",
    "print(mol.joback.critical_pressure)\n",
    "\n",
    "# Experimental value of ethanol's critical temperature is 514.0 K\n",
    "print(mol.joback.critical_temperature)\n",
    "\n",
    "# Vapor pressure at the normal boiling temperature of ethanol\n",
    "print(mol.joback.vapor_pressure(78.37 + 273.15))"
   ]
  },
  {
   "cell_type": "markdown",
   "metadata": {},
   "source": [
    "You can provide the normal boiling point of the molecules to improve some \n",
    "Joback's predictions."
   ]
  },
  {
   "cell_type": "code",
   "execution_count": 38,
   "metadata": {},
   "outputs": [],
   "source": [
    "mol = Groups(molecule_name, normal_boiling_temperature=78.37+273.15)"
   ]
  },
  {
   "cell_type": "code",
   "execution_count": 39,
   "metadata": {},
   "outputs": [
    {
     "name": "stdout",
     "output_type": "stream",
     "text": [
      "520.0914853232541\n",
      "1.0132499999999998\n"
     ]
    }
   ],
   "source": [
    "print(mol.joback.critical_temperature)\n",
    "\n",
    "print(mol.joback.vapor_pressure(78.37+273.15))"
   ]
  },
  {
   "cell_type": "markdown",
   "metadata": {},
   "source": [
    "You can also create a Groups object from the molecule's SMILES."
   ]
  },
  {
   "cell_type": "code",
   "execution_count": 40,
   "metadata": {},
   "outputs": [
    {
     "name": "stdout",
     "output_type": "stream",
     "text": [
      "520.0914853232541\n",
      "1.0132499999999998\n"
     ]
    }
   ],
   "source": [
    "# Ethanol again\n",
    "mol = Groups(\n",
    "    \"CCO\", \n",
    "    identifier_type=\"smiles\", \n",
    "    normal_boiling_temperature=78.37+273.15\n",
    ")\n",
    "\n",
    "print(mol.joback.critical_temperature)\n",
    "\n",
    "print(mol.joback.vapor_pressure(78.37+273.15))"
   ]
  },
  {
   "cell_type": "markdown",
   "metadata": {},
   "source": [
    "Check the tutorial to explore more features."
   ]
  }
 ],
 "metadata": {
  "kernelspec": {
   "display_name": "ugropy",
   "language": "python",
   "name": "python3"
  },
  "language_info": {
   "codemirror_mode": {
    "name": "ipython",
    "version": 3
   },
   "file_extension": ".py",
   "mimetype": "text/x-python",
   "name": "python",
   "nbconvert_exporter": "python",
   "pygments_lexer": "ipython3",
   "version": "3.10.12"
  }
 },
 "nbformat": 4,
 "nbformat_minor": 2
}
