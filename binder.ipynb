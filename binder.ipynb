{
 "cells": [
  {
   "cell_type": "markdown",
   "metadata": {},
   "source": [
    "# Welcome to the ugropy's Binder\n",
    "\n",
    "You can use this notebook to try the basics features of ugropy. You can \n",
    "check the full tutorial here: https://ugropy.readthedocs.io/en/latest/index.html\n",
    "\n",
    "Let's use the Groups class to obtain information of the desired molecules:"
   ]
  },
  {
   "cell_type": "code",
   "execution_count": 1,
   "metadata": {},
   "outputs": [],
   "source": [
    "from ugropy import Groups\n",
    "\n",
    "# Write the molecule's name as it appears on pubchem\n",
    "molecule_name = \"ethanol\"\n",
    "\n",
    "mol = Groups(molecule_name)"
   ]
  },
  {
   "cell_type": "markdown",
   "metadata": {},
   "source": [
    "See the result of the fragmentation models"
   ]
  },
  {
   "cell_type": "code",
   "execution_count": 2,
   "metadata": {},
   "outputs": [
    {
     "name": "stdout",
     "output_type": "stream",
     "text": [
      "{'CH3': 1, 'CH2': 1, 'OH': 1}\n",
      "{'CH3': 1, 'CH2': 1, 'OH': 1}\n",
      "{'-CH3': 1, '-CH2-': 1, '-OH (alcohol)': 1}\n"
     ]
    }
   ],
   "source": [
    "print(mol.unifac.subgroups)\n",
    "print(mol.psrk.subgroups)\n",
    "print(mol.joback.subgroups)"
   ]
  },
  {
   "cell_type": "markdown",
   "metadata": {},
   "source": [
    "Get groups information and properties from the Joback model"
   ]
  },
  {
   "cell_type": "code",
   "execution_count": 3,
   "metadata": {},
   "outputs": [
    {
     "name": "stdout",
     "output_type": "stream",
     "text": [
      "57.56641437226128\n",
      "499.40737356625846\n",
      "1.702089531406276\n"
     ]
    }
   ],
   "source": [
    "# Experimental value of ethanol's critical pressure is 61.37 bar\n",
    "print(mol.joback.critical_pressure)\n",
    "\n",
    "# Experimental value of ethanol's critical temperature is 514.0 K\n",
    "print(mol.joback.critical_temperature)\n",
    "\n",
    "# Vapor pressure at the normal boiling temperature of ethanol\n",
    "print(mol.joback.vapor_pressure(78.37 + 273.15))"
   ]
  },
  {
   "cell_type": "markdown",
   "metadata": {},
   "source": [
    "You can provide the normal boiling point of the molecules to improve some \n",
    "Joback's predictions."
   ]
  },
  {
   "cell_type": "code",
   "execution_count": 5,
   "metadata": {},
   "outputs": [],
   "source": [
    "mol = Groups(molecule_name, normal_boiling_temperature=78.37+273.15)"
   ]
  },
  {
   "cell_type": "code",
   "execution_count": 6,
   "metadata": {},
   "outputs": [
    {
     "name": "stdout",
     "output_type": "stream",
     "text": [
      "520.0914853232541\n",
      "1.0132499999999998\n"
     ]
    }
   ],
   "source": [
    "print(mol.joback.critical_temperature)\n",
    "\n",
    "print(mol.joback.vapor_pressure(78.37+273.15))"
   ]
  },
  {
   "cell_type": "markdown",
   "metadata": {},
   "source": [
    "You can also create a Groups object from the molecule's SMILES."
   ]
  },
  {
   "cell_type": "code",
   "execution_count": 7,
   "metadata": {},
   "outputs": [
    {
     "name": "stdout",
     "output_type": "stream",
     "text": [
      "520.0914853232541\n",
      "1.0132499999999998\n"
     ]
    }
   ],
   "source": [
    "# Ethanol again\n",
    "mol = Groups(\n",
    "    \"CCO\", \n",
    "    identifier_type=\"smiles\", \n",
    "    normal_boiling_temperature=78.37+273.15\n",
    ")\n",
    "\n",
    "print(mol.joback.critical_temperature)\n",
    "\n",
    "print(mol.joback.vapor_pressure(78.37+273.15))"
   ]
  },
  {
   "cell_type": "markdown",
   "metadata": {},
   "source": [
    "Visualize your results!"
   ]
  },
  {
   "cell_type": "code",
   "execution_count": 11,
   "metadata": {},
   "outputs": [
    {
     "data": {
      "image/svg+xml": [
       "<svg xmlns=\"http://www.w3.org/2000/svg\" xmlns:rdkit=\"http://www.rdkit.org/xml\" xmlns:xlink=\"http://www.w3.org/1999/xlink\" version=\"1.1\" baseProfile=\"full\" xml:space=\"preserve\" width=\"800px\" height=\"300px\" viewBox=\"0 0 800 300\">\n",
       "<!-- END OF HEADER -->\n",
       "<rect style=\"opacity:1.0;fill:#FFFFFF;stroke:none\" width=\"800.0\" height=\"300.0\" x=\"0.0\" y=\"0.0\"> </rect>\n",
       "<ellipse cx=\"684.9\" cy=\"150.0\" rx=\"25.3\" ry=\"25.3\" class=\"atom-0\" style=\"fill:#1F77B4A5;fill-rule:evenodd;stroke:#1F77B4A5;stroke-width:1.0px;stroke-linecap:butt;stroke-linejoin:miter;stroke-opacity:1\"/>\n",
       "<ellipse cx=\"558.3\" cy=\"150.0\" rx=\"25.3\" ry=\"25.3\" class=\"atom-1\" style=\"fill:#9467BDA5;fill-rule:evenodd;stroke:#9467BDA5;stroke-width:1.0px;stroke-linecap:butt;stroke-linejoin:miter;stroke-opacity:1\"/>\n",
       "<ellipse cx=\"495.0\" cy=\"259.7\" rx=\"25.3\" ry=\"25.3\" class=\"atom-2\" style=\"fill:#9467BDA5;fill-rule:evenodd;stroke:#9467BDA5;stroke-width:1.0px;stroke-linecap:butt;stroke-linejoin:miter;stroke-opacity:1\"/>\n",
       "<ellipse cx=\"368.3\" cy=\"259.7\" rx=\"25.3\" ry=\"25.3\" class=\"atom-3\" style=\"fill:#FF7F0EA5;fill-rule:evenodd;stroke:#FF7F0EA5;stroke-width:1.0px;stroke-linecap:butt;stroke-linejoin:miter;stroke-opacity:1\"/>\n",
       "<ellipse cx=\"305.0\" cy=\"150.0\" rx=\"25.3\" ry=\"25.3\" class=\"atom-4\" style=\"fill:#2CA02CA5;fill-rule:evenodd;stroke:#2CA02CA5;stroke-width:1.0px;stroke-linecap:butt;stroke-linejoin:miter;stroke-opacity:1\"/>\n",
       "<ellipse cx=\"368.3\" cy=\"40.3\" rx=\"25.3\" ry=\"25.3\" class=\"atom-5\" style=\"fill:#FF7F0EA5;fill-rule:evenodd;stroke:#FF7F0EA5;stroke-width:1.0px;stroke-linecap:butt;stroke-linejoin:miter;stroke-opacity:1\"/>\n",
       "<ellipse cx=\"495.0\" cy=\"40.3\" rx=\"25.3\" ry=\"25.3\" class=\"atom-6\" style=\"fill:#FF7F0EA5;fill-rule:evenodd;stroke:#FF7F0EA5;stroke-width:1.0px;stroke-linecap:butt;stroke-linejoin:miter;stroke-opacity:1\"/>\n",
       "<ellipse cx=\"178.4\" cy=\"150.0\" rx=\"25.3\" ry=\"25.3\" class=\"atom-7\" style=\"fill:#D62728A5;fill-rule:evenodd;stroke:#D62728A5;stroke-width:1.0px;stroke-linecap:butt;stroke-linejoin:miter;stroke-opacity:1\"/>\n",
       "<ellipse cx=\"115.1\" cy=\"259.7\" rx=\"25.3\" ry=\"25.3\" class=\"atom-8\" style=\"fill:#D62728A5;fill-rule:evenodd;stroke:#D62728A5;stroke-width:1.0px;stroke-linecap:butt;stroke-linejoin:miter;stroke-opacity:1\"/>\n",
       "<ellipse cx=\"115.1\" cy=\"40.3\" rx=\"25.3\" ry=\"25.3\" class=\"atom-9\" style=\"fill:#1F77B4A5;fill-rule:evenodd;stroke:#1F77B4A5;stroke-width:1.0px;stroke-linecap:butt;stroke-linejoin:miter;stroke-opacity:1\"/>\n",
       "<path class=\"bond-0 atom-0 atom-1\" d=\"M 684.9,150.0 L 558.3,150.0\" style=\"fill:none;fill-rule:evenodd;stroke:#000000;stroke-width:2.0px;stroke-linecap:butt;stroke-linejoin:miter;stroke-opacity:1\"/>\n",
       "<path class=\"bond-1 atom-1 atom-2\" d=\"M 558.3,150.0 L 495.0,259.7\" style=\"fill:none;fill-rule:evenodd;stroke:#000000;stroke-width:2.0px;stroke-linecap:butt;stroke-linejoin:miter;stroke-opacity:1\"/>\n",
       "<path class=\"bond-1 atom-1 atom-2\" d=\"M 536.4,150.0 L 484.0,240.7\" style=\"fill:none;fill-rule:evenodd;stroke:#000000;stroke-width:2.0px;stroke-linecap:butt;stroke-linejoin:miter;stroke-opacity:1\"/>\n",
       "<path class=\"bond-2 atom-2 atom-3\" d=\"M 495.0,259.7 L 368.3,259.7\" style=\"fill:none;fill-rule:evenodd;stroke:#000000;stroke-width:2.0px;stroke-linecap:butt;stroke-linejoin:miter;stroke-opacity:1\"/>\n",
       "<path class=\"bond-3 atom-3 atom-4\" d=\"M 368.3,259.7 L 305.0,150.0\" style=\"fill:none;fill-rule:evenodd;stroke:#000000;stroke-width:2.0px;stroke-linecap:butt;stroke-linejoin:miter;stroke-opacity:1\"/>\n",
       "<path class=\"bond-4 atom-4 atom-5\" d=\"M 305.0,150.0 L 368.3,40.3\" style=\"fill:none;fill-rule:evenodd;stroke:#000000;stroke-width:2.0px;stroke-linecap:butt;stroke-linejoin:miter;stroke-opacity:1\"/>\n",
       "<path class=\"bond-5 atom-5 atom-6\" d=\"M 368.3,40.3 L 495.0,40.3\" style=\"fill:none;fill-rule:evenodd;stroke:#000000;stroke-width:2.0px;stroke-linecap:butt;stroke-linejoin:miter;stroke-opacity:1\"/>\n",
       "<path class=\"bond-6 atom-4 atom-7\" d=\"M 305.0,150.0 L 178.4,150.0\" style=\"fill:none;fill-rule:evenodd;stroke:#000000;stroke-width:2.0px;stroke-linecap:butt;stroke-linejoin:miter;stroke-opacity:1\"/>\n",
       "<path class=\"bond-7 atom-7 atom-8\" d=\"M 172.9,140.5 L 106.8,254.9\" style=\"fill:none;fill-rule:evenodd;stroke:#000000;stroke-width:2.0px;stroke-linecap:butt;stroke-linejoin:miter;stroke-opacity:1\"/>\n",
       "<path class=\"bond-7 atom-7 atom-8\" d=\"M 189.3,150.0 L 123.3,264.4\" style=\"fill:none;fill-rule:evenodd;stroke:#000000;stroke-width:2.0px;stroke-linecap:butt;stroke-linejoin:miter;stroke-opacity:1\"/>\n",
       "<path class=\"bond-8 atom-7 atom-9\" d=\"M 178.4,150.0 L 115.1,40.3\" style=\"fill:none;fill-rule:evenodd;stroke:#000000;stroke-width:2.0px;stroke-linecap:butt;stroke-linejoin:miter;stroke-opacity:1\"/>\n",
       "<path class=\"bond-9 atom-6 atom-1\" d=\"M 495.0,40.3 L 558.3,150.0\" style=\"fill:none;fill-rule:evenodd;stroke:#000000;stroke-width:2.0px;stroke-linecap:butt;stroke-linejoin:miter;stroke-opacity:1\"/>\n",
       "<path d=\"M 498.1,254.2 L 495.0,259.7 L 488.6,259.7\" style=\"fill:none;stroke:#000000;stroke-width:2.0px;stroke-linecap:butt;stroke-linejoin:miter;stroke-opacity:1;\"/>\n",
       "<path d=\"M 374.7,259.7 L 368.3,259.7 L 365.2,254.2\" style=\"fill:none;stroke:#000000;stroke-width:2.0px;stroke-linecap:butt;stroke-linejoin:miter;stroke-opacity:1;\"/>\n",
       "<path d=\"M 365.2,45.8 L 368.3,40.3 L 374.7,40.3\" style=\"fill:none;stroke:#000000;stroke-width:2.0px;stroke-linecap:butt;stroke-linejoin:miter;stroke-opacity:1;\"/>\n",
       "<path d=\"M 488.6,40.3 L 495.0,40.3 L 498.1,45.8\" style=\"fill:none;stroke:#000000;stroke-width:2.0px;stroke-linecap:butt;stroke-linejoin:miter;stroke-opacity:1;\"/>\n",
       "<path d=\"M 184.7,150.0 L 178.4,150.0 L 175.2,144.5\" style=\"fill:none;stroke:#000000;stroke-width:2.0px;stroke-linecap:butt;stroke-linejoin:miter;stroke-opacity:1;\"/>\n",
       "<rect x=\"1\" y=\"5\" width=\"18.0\" height=\"18.0\" fill=\"rgb(31, 119, 179)\"/><text x=\"19.200000000000003\" y=\"20\" font-family=\"Helvetica\" font-size=\"12\" fill=\"black\">CH3</text><rect x=\"1\" y=\"30\" width=\"18.0\" height=\"18.0\" fill=\"rgb(255, 127, 13)\"/><text x=\"19.200000000000003\" y=\"45\" font-family=\"Helvetica\" font-size=\"12\" fill=\"black\">CH2</text><rect x=\"1\" y=\"55\" width=\"18.0\" height=\"18.0\" fill=\"rgb(44, 159, 44)\"/><text x=\"19.200000000000003\" y=\"70\" font-family=\"Helvetica\" font-size=\"12\" fill=\"black\">CH</text><rect x=\"1\" y=\"80\" width=\"18.0\" height=\"18.0\" fill=\"rgb(214, 39, 40)\"/><text x=\"19.200000000000003\" y=\"95\" font-family=\"Helvetica\" font-size=\"12\" fill=\"black\">CH2=C</text><rect x=\"1\" y=\"105\" width=\"18.0\" height=\"18.0\" fill=\"rgb(148, 103, 188)\"/><text x=\"19.200000000000003\" y=\"120\" font-family=\"Helvetica\" font-size=\"12\" fill=\"black\">CH=C</text><text x=\"400.0\" y=\"40\" font-family=\"Helvetica\" font-size=\"12\" font-weight=\"bold\" fill=\"black\" text-anchor=\"middle\"/></svg>"
      ],
      "text/plain": [
       "<IPython.core.display.SVG object>"
      ]
     },
     "execution_count": 11,
     "metadata": {},
     "output_type": "execute_result"
    }
   ],
   "source": [
    "from IPython.display import SVG\n",
    "\n",
    "limonene = Groups(\"d-limonene\")\n",
    "\n",
    "SVG(limonene.unifac.draw(width=800, height=300))\n"
   ]
  },
  {
   "cell_type": "markdown",
   "metadata": {},
   "source": [
    "Let create the ugropy logo"
   ]
  },
  {
   "cell_type": "code",
   "execution_count": 12,
   "metadata": {},
   "outputs": [
    {
     "data": {
      "image/svg+xml": [
       "<svg xmlns=\"http://www.w3.org/2000/svg\" xmlns:rdkit=\"http://www.rdkit.org/xml\" xmlns:xlink=\"http://www.w3.org/1999/xlink\" version=\"1.1\" baseProfile=\"full\" xml:space=\"preserve\" width=\"800px\" height=\"450px\" viewBox=\"0 0 800 450\">\n",
       "<!-- END OF HEADER -->\n",
       "<rect style=\"opacity:1.0;fill:#FFFFFF;stroke:none\" width=\"800.0\" height=\"450.0\" x=\"0.0\" y=\"0.0\"> </rect>\n",
       "<ellipse cx=\"342.6\" cy=\"353.1\" rx=\"11.2\" ry=\"11.2\" class=\"atom-0\" style=\"fill:#1F77B4A5;fill-rule:evenodd;stroke:#1F77B4A5;stroke-width:1.0px;stroke-linecap:butt;stroke-linejoin:miter;stroke-opacity:1\"/>\n",
       "<ellipse cx=\"380.0\" cy=\"311.4\" rx=\"11.2\" ry=\"11.2\" class=\"atom-1\" style=\"fill:#E377C2A5;fill-rule:evenodd;stroke:#E377C2A5;stroke-width:1.0px;stroke-linecap:butt;stroke-linejoin:miter;stroke-opacity:1\"/>\n",
       "<ellipse cx=\"434.8\" cy=\"323.0\" rx=\"11.2\" ry=\"11.2\" class=\"atom-2\" style=\"fill:#D62728A5;fill-rule:evenodd;stroke:#D62728A5;stroke-width:1.0px;stroke-linecap:butt;stroke-linejoin:miter;stroke-opacity:1\"/>\n",
       "<ellipse cx=\"472.2\" cy=\"281.3\" rx=\"11.2\" ry=\"11.2\" class=\"atom-3\" style=\"fill:#D62728A5;fill-rule:evenodd;stroke:#D62728A5;stroke-width:1.0px;stroke-linecap:butt;stroke-linejoin:miter;stroke-opacity:1\"/>\n",
       "<ellipse cx=\"454.8\" cy=\"228.1\" rx=\"11.2\" ry=\"11.2\" class=\"atom-4\" style=\"fill:#7F7F7FA5;fill-rule:evenodd;stroke:#7F7F7FA5;stroke-width:1.0px;stroke-linecap:butt;stroke-linejoin:miter;stroke-opacity:1\"/>\n",
       "<ellipse cx=\"400.0\" cy=\"216.5\" rx=\"11.2\" ry=\"11.2\" class=\"atom-5\" style=\"fill:#9467BDA5;fill-rule:evenodd;stroke:#9467BDA5;stroke-width:1.0px;stroke-linecap:butt;stroke-linejoin:miter;stroke-opacity:1\"/>\n",
       "<ellipse cx=\"382.6\" cy=\"163.4\" rx=\"11.2\" ry=\"11.5\" class=\"atom-6\" style=\"fill:#9467BDA5;fill-rule:evenodd;stroke:#9467BDA5;stroke-width:1.0px;stroke-linecap:butt;stroke-linejoin:miter;stroke-opacity:1\"/>\n",
       "<ellipse cx=\"327.8\" cy=\"151.7\" rx=\"11.2\" ry=\"11.2\" class=\"atom-7\" style=\"fill:#FF7F0EA5;fill-rule:evenodd;stroke:#FF7F0EA5;stroke-width:1.0px;stroke-linecap:butt;stroke-linejoin:miter;stroke-opacity:1\"/>\n",
       "<ellipse cx=\"339.4\" cy=\"96.9\" rx=\"11.2\" ry=\"11.2\" class=\"atom-8\" style=\"fill:#1F77B4A5;fill-rule:evenodd;stroke:#1F77B4A5;stroke-width:1.0px;stroke-linecap:butt;stroke-linejoin:miter;stroke-opacity:1\"/>\n",
       "<ellipse cx=\"316.3\" cy=\"206.5\" rx=\"11.2\" ry=\"11.2\" class=\"atom-9\" style=\"fill:#1F77B4A5;fill-rule:evenodd;stroke:#1F77B4A5;stroke-width:1.0px;stroke-linecap:butt;stroke-linejoin:miter;stroke-opacity:1\"/>\n",
       "<ellipse cx=\"273.0\" cy=\"140.1\" rx=\"11.2\" ry=\"11.2\" class=\"atom-10\" style=\"fill:#9467BDA5;fill-rule:evenodd;stroke:#9467BDA5;stroke-width:1.0px;stroke-linecap:butt;stroke-linejoin:miter;stroke-opacity:1\"/>\n",
       "<ellipse cx=\"235.6\" cy=\"181.9\" rx=\"11.2\" ry=\"11.5\" class=\"atom-11\" style=\"fill:#9467BDA5;fill-rule:evenodd;stroke:#9467BDA5;stroke-width:1.0px;stroke-linecap:butt;stroke-linejoin:miter;stroke-opacity:1\"/>\n",
       "<ellipse cx=\"180.8\" cy=\"170.2\" rx=\"11.2\" ry=\"11.2\" class=\"atom-12\" style=\"fill:#8C564BA5;fill-rule:evenodd;stroke:#8C564BA5;stroke-width:1.0px;stroke-linecap:butt;stroke-linejoin:miter;stroke-opacity:1\"/>\n",
       "<ellipse cx=\"163.4\" cy=\"117.1\" rx=\"11.2\" ry=\"11.5\" class=\"atom-13\" style=\"fill:#8C564BA5;fill-rule:evenodd;stroke:#8C564BA5;stroke-width:1.0px;stroke-linecap:butt;stroke-linejoin:miter;stroke-opacity:1\"/>\n",
       "<ellipse cx=\"143.4\" cy=\"212.0\" rx=\"11.2\" ry=\"11.5\" class=\"atom-14\" style=\"fill:#8C564BA5;fill-rule:evenodd;stroke:#8C564BA5;stroke-width:1.0px;stroke-linecap:butt;stroke-linejoin:miter;stroke-opacity:1\"/>\n",
       "<ellipse cx=\"88.6\" cy=\"200.4\" rx=\"11.2\" ry=\"11.2\" class=\"atom-15\" style=\"fill:#E377C2A5;fill-rule:evenodd;stroke:#E377C2A5;stroke-width:1.0px;stroke-linecap:butt;stroke-linejoin:miter;stroke-opacity:1\"/>\n",
       "<ellipse cx=\"51.2\" cy=\"242.0\" rx=\"11.2\" ry=\"11.2\" class=\"atom-16\" style=\"fill:#1F77B4A5;fill-rule:evenodd;stroke:#1F77B4A5;stroke-width:1.0px;stroke-linecap:butt;stroke-linejoin:miter;stroke-opacity:1\"/>\n",
       "<ellipse cx=\"492.2\" cy=\"186.4\" rx=\"11.2\" ry=\"11.2\" class=\"atom-17\" style=\"fill:#2CA02CA5;fill-rule:evenodd;stroke:#2CA02CA5;stroke-width:1.0px;stroke-linecap:butt;stroke-linejoin:miter;stroke-opacity:1\"/>\n",
       "<ellipse cx=\"547.0\" cy=\"198.0\" rx=\"11.2\" ry=\"11.2\" class=\"atom-18\" style=\"fill:#D62728A5;fill-rule:evenodd;stroke:#D62728A5;stroke-width:1.0px;stroke-linecap:butt;stroke-linejoin:miter;stroke-opacity:1\"/>\n",
       "<ellipse cx=\"584.4\" cy=\"156.3\" rx=\"11.2\" ry=\"11.2\" class=\"atom-19\" style=\"fill:#D62728A5;fill-rule:evenodd;stroke:#D62728A5;stroke-width:1.0px;stroke-linecap:butt;stroke-linejoin:miter;stroke-opacity:1\"/>\n",
       "<ellipse cx=\"639.2\" cy=\"167.9\" rx=\"11.2\" ry=\"11.2\" class=\"atom-20\" style=\"fill:#7F7F7FA5;fill-rule:evenodd;stroke:#7F7F7FA5;stroke-width:1.0px;stroke-linecap:butt;stroke-linejoin:miter;stroke-opacity:1\"/>\n",
       "<ellipse cx=\"656.6\" cy=\"221.1\" rx=\"11.2\" ry=\"11.2\" class=\"atom-21\" style=\"fill:#2CA02CA5;fill-rule:evenodd;stroke:#2CA02CA5;stroke-width:1.0px;stroke-linecap:butt;stroke-linejoin:miter;stroke-opacity:1\"/>\n",
       "<ellipse cx=\"711.4\" cy=\"232.7\" rx=\"11.2\" ry=\"11.2\" class=\"atom-22\" style=\"fill:#2CA02CA5;fill-rule:evenodd;stroke:#2CA02CA5;stroke-width:1.0px;stroke-linecap:butt;stroke-linejoin:miter;stroke-opacity:1\"/>\n",
       "<ellipse cx=\"748.8\" cy=\"191.0\" rx=\"11.2\" ry=\"11.2\" class=\"atom-23\" style=\"fill:#2CA02CA5;fill-rule:evenodd;stroke:#2CA02CA5;stroke-width:1.0px;stroke-linecap:butt;stroke-linejoin:miter;stroke-opacity:1\"/>\n",
       "<ellipse cx=\"731.4\" cy=\"137.8\" rx=\"11.2\" ry=\"11.2\" class=\"atom-24\" style=\"fill:#2CA02CA5;fill-rule:evenodd;stroke:#2CA02CA5;stroke-width:1.0px;stroke-linecap:butt;stroke-linejoin:miter;stroke-opacity:1\"/>\n",
       "<ellipse cx=\"676.6\" cy=\"126.2\" rx=\"11.2\" ry=\"11.2\" class=\"atom-25\" style=\"fill:#2CA02CA5;fill-rule:evenodd;stroke:#2CA02CA5;stroke-width:1.0px;stroke-linecap:butt;stroke-linejoin:miter;stroke-opacity:1\"/>\n",
       "<ellipse cx=\"564.4\" cy=\"251.2\" rx=\"11.2\" ry=\"11.2\" class=\"atom-26\" style=\"fill:#2CA02CA5;fill-rule:evenodd;stroke:#2CA02CA5;stroke-width:1.0px;stroke-linecap:butt;stroke-linejoin:miter;stroke-opacity:1\"/>\n",
       "<ellipse cx=\"527.0\" cy=\"292.9\" rx=\"11.2\" ry=\"11.2\" class=\"atom-27\" style=\"fill:#2CA02CA5;fill-rule:evenodd;stroke:#2CA02CA5;stroke-width:1.0px;stroke-linecap:butt;stroke-linejoin:miter;stroke-opacity:1\"/>\n",
       "<path class=\"bond-0 atom-0 atom-1\" d=\"M 342.6,353.1 L 380.0,311.4\" style=\"fill:none;fill-rule:evenodd;stroke:#000000;stroke-width:2.0px;stroke-linecap:butt;stroke-linejoin:miter;stroke-opacity:1\"/>\n",
       "<path class=\"bond-1 atom-1 atom-2\" d=\"M 380.0,311.4 L 434.8,323.0\" style=\"fill:none;fill-rule:evenodd;stroke:#000000;stroke-width:2.0px;stroke-linecap:butt;stroke-linejoin:miter;stroke-opacity:1\"/>\n",
       "<path class=\"bond-2 atom-2 atom-3\" d=\"M 434.8,323.0 L 472.2,281.3\" style=\"fill:none;fill-rule:evenodd;stroke:#000000;stroke-width:2.0px;stroke-linecap:butt;stroke-linejoin:miter;stroke-opacity:1\"/>\n",
       "<path class=\"bond-3 atom-3 atom-4\" d=\"M 472.2,281.3 L 454.8,228.1\" style=\"fill:none;fill-rule:evenodd;stroke:#000000;stroke-width:2.0px;stroke-linecap:butt;stroke-linejoin:miter;stroke-opacity:1\"/>\n",
       "<path class=\"bond-3 atom-3 atom-4\" d=\"M 478.7,274.1 L 464.3,230.1\" style=\"fill:none;fill-rule:evenodd;stroke:#000000;stroke-width:2.0px;stroke-linecap:butt;stroke-linejoin:miter;stroke-opacity:1\"/>\n",
       "<path class=\"bond-4 atom-4 atom-5\" d=\"M 454.8,228.1 L 400.0,216.5\" style=\"fill:none;fill-rule:evenodd;stroke:#000000;stroke-width:2.0px;stroke-linecap:butt;stroke-linejoin:miter;stroke-opacity:1\"/>\n",
       "<path class=\"bond-5 atom-5 atom-6\" d=\"M 400.0,216.5 L 393.0,194.9\" style=\"fill:none;fill-rule:evenodd;stroke:#000000;stroke-width:2.0px;stroke-linecap:butt;stroke-linejoin:miter;stroke-opacity:1\"/>\n",
       "<path class=\"bond-5 atom-5 atom-6\" d=\"M 393.0,194.9 L 385.9,173.4\" style=\"fill:none;fill-rule:evenodd;stroke:#FF0000;stroke-width:2.0px;stroke-linecap:butt;stroke-linejoin:miter;stroke-opacity:1\"/>\n",
       "<path class=\"bond-6 atom-6 atom-7\" d=\"M 373.5,161.3 L 350.7,156.5\" style=\"fill:none;fill-rule:evenodd;stroke:#FF0000;stroke-width:2.0px;stroke-linecap:butt;stroke-linejoin:miter;stroke-opacity:1\"/>\n",
       "<path class=\"bond-6 atom-6 atom-7\" d=\"M 350.7,156.5 L 327.8,151.7\" style=\"fill:none;fill-rule:evenodd;stroke:#000000;stroke-width:2.0px;stroke-linecap:butt;stroke-linejoin:miter;stroke-opacity:1\"/>\n",
       "<path class=\"bond-7 atom-7 atom-8\" d=\"M 327.8,151.7 L 339.4,96.9\" style=\"fill:none;fill-rule:evenodd;stroke:#000000;stroke-width:2.0px;stroke-linecap:butt;stroke-linejoin:miter;stroke-opacity:1\"/>\n",
       "<path class=\"bond-8 atom-7 atom-9\" d=\"M 327.8,151.7 L 316.3,206.5\" style=\"fill:none;fill-rule:evenodd;stroke:#000000;stroke-width:2.0px;stroke-linecap:butt;stroke-linejoin:miter;stroke-opacity:1\"/>\n",
       "<path class=\"bond-9 atom-7 atom-10\" d=\"M 327.8,151.7 L 273.0,140.1\" style=\"fill:none;fill-rule:evenodd;stroke:#000000;stroke-width:2.0px;stroke-linecap:butt;stroke-linejoin:miter;stroke-opacity:1\"/>\n",
       "<path class=\"bond-10 atom-10 atom-11\" d=\"M 273.0,140.1 L 258.8,156.0\" style=\"fill:none;fill-rule:evenodd;stroke:#000000;stroke-width:2.0px;stroke-linecap:butt;stroke-linejoin:miter;stroke-opacity:1\"/>\n",
       "<path class=\"bond-10 atom-10 atom-11\" d=\"M 258.8,156.0 L 244.5,171.9\" style=\"fill:none;fill-rule:evenodd;stroke:#FF0000;stroke-width:2.0px;stroke-linecap:butt;stroke-linejoin:miter;stroke-opacity:1\"/>\n",
       "<path class=\"bond-11 atom-11 atom-12\" d=\"M 226.5,179.9 L 203.7,175.1\" style=\"fill:none;fill-rule:evenodd;stroke:#FF0000;stroke-width:2.0px;stroke-linecap:butt;stroke-linejoin:miter;stroke-opacity:1\"/>\n",
       "<path class=\"bond-11 atom-11 atom-12\" d=\"M 203.7,175.1 L 180.8,170.2\" style=\"fill:none;fill-rule:evenodd;stroke:#000000;stroke-width:2.0px;stroke-linecap:butt;stroke-linejoin:miter;stroke-opacity:1\"/>\n",
       "<path class=\"bond-12 atom-12 atom-13\" d=\"M 185.6,171.2 L 178.2,148.5\" style=\"fill:none;fill-rule:evenodd;stroke:#000000;stroke-width:2.0px;stroke-linecap:butt;stroke-linejoin:miter;stroke-opacity:1\"/>\n",
       "<path class=\"bond-12 atom-12 atom-13\" d=\"M 178.2,148.5 L 170.7,125.8\" style=\"fill:none;fill-rule:evenodd;stroke:#FF0000;stroke-width:2.0px;stroke-linecap:butt;stroke-linejoin:miter;stroke-opacity:1\"/>\n",
       "<path class=\"bond-12 atom-12 atom-13\" d=\"M 177.6,173.9 L 170.2,151.1\" style=\"fill:none;fill-rule:evenodd;stroke:#000000;stroke-width:2.0px;stroke-linecap:butt;stroke-linejoin:miter;stroke-opacity:1\"/>\n",
       "<path class=\"bond-12 atom-12 atom-13\" d=\"M 170.2,151.1 L 162.8,128.4\" style=\"fill:none;fill-rule:evenodd;stroke:#FF0000;stroke-width:2.0px;stroke-linecap:butt;stroke-linejoin:miter;stroke-opacity:1\"/>\n",
       "<path class=\"bond-13 atom-12 atom-14\" d=\"M 180.8,170.2 L 166.5,186.1\" style=\"fill:none;fill-rule:evenodd;stroke:#000000;stroke-width:2.0px;stroke-linecap:butt;stroke-linejoin:miter;stroke-opacity:1\"/>\n",
       "<path class=\"bond-13 atom-12 atom-14\" d=\"M 166.5,186.1 L 152.3,202.0\" style=\"fill:none;fill-rule:evenodd;stroke:#FF0000;stroke-width:2.0px;stroke-linecap:butt;stroke-linejoin:miter;stroke-opacity:1\"/>\n",
       "<path class=\"bond-14 atom-14 atom-15\" d=\"M 134.3,210.0 L 111.4,205.2\" style=\"fill:none;fill-rule:evenodd;stroke:#FF0000;stroke-width:2.0px;stroke-linecap:butt;stroke-linejoin:miter;stroke-opacity:1\"/>\n",
       "<path class=\"bond-14 atom-14 atom-15\" d=\"M 111.4,205.2 L 88.6,200.4\" style=\"fill:none;fill-rule:evenodd;stroke:#000000;stroke-width:2.0px;stroke-linecap:butt;stroke-linejoin:miter;stroke-opacity:1\"/>\n",
       "<path class=\"bond-15 atom-15 atom-16\" d=\"M 88.6,200.4 L 51.2,242.0\" style=\"fill:none;fill-rule:evenodd;stroke:#000000;stroke-width:2.0px;stroke-linecap:butt;stroke-linejoin:miter;stroke-opacity:1\"/>\n",
       "<path class=\"bond-16 atom-4 atom-17\" d=\"M 454.8,228.1 L 492.2,186.4\" style=\"fill:none;fill-rule:evenodd;stroke:#000000;stroke-width:2.0px;stroke-linecap:butt;stroke-linejoin:miter;stroke-opacity:1\"/>\n",
       "<path class=\"bond-17 atom-17 atom-18\" d=\"M 492.2,186.4 L 547.0,198.0\" style=\"fill:none;fill-rule:evenodd;stroke:#000000;stroke-width:2.0px;stroke-linecap:butt;stroke-linejoin:miter;stroke-opacity:1\"/>\n",
       "<path class=\"bond-17 atom-17 atom-18\" d=\"M 495.2,195.6 L 540.5,205.2\" style=\"fill:none;fill-rule:evenodd;stroke:#000000;stroke-width:2.0px;stroke-linecap:butt;stroke-linejoin:miter;stroke-opacity:1\"/>\n",
       "<path class=\"bond-18 atom-18 atom-19\" d=\"M 547.0,198.0 L 584.4,156.3\" style=\"fill:none;fill-rule:evenodd;stroke:#000000;stroke-width:2.0px;stroke-linecap:butt;stroke-linejoin:miter;stroke-opacity:1\"/>\n",
       "<path class=\"bond-19 atom-19 atom-20\" d=\"M 584.4,156.3 L 639.2,167.9\" style=\"fill:none;fill-rule:evenodd;stroke:#000000;stroke-width:2.0px;stroke-linecap:butt;stroke-linejoin:miter;stroke-opacity:1\"/>\n",
       "<path class=\"bond-20 atom-20 atom-21\" d=\"M 639.2,167.9 L 656.6,221.1\" style=\"fill:none;fill-rule:evenodd;stroke:#000000;stroke-width:2.0px;stroke-linecap:butt;stroke-linejoin:miter;stroke-opacity:1\"/>\n",
       "<path class=\"bond-20 atom-20 atom-21\" d=\"M 648.7,169.9 L 663.1,213.9\" style=\"fill:none;fill-rule:evenodd;stroke:#000000;stroke-width:2.0px;stroke-linecap:butt;stroke-linejoin:miter;stroke-opacity:1\"/>\n",
       "<path class=\"bond-21 atom-21 atom-22\" d=\"M 656.6,221.1 L 711.4,232.7\" style=\"fill:none;fill-rule:evenodd;stroke:#000000;stroke-width:2.0px;stroke-linecap:butt;stroke-linejoin:miter;stroke-opacity:1\"/>\n",
       "<path class=\"bond-22 atom-22 atom-23\" d=\"M 711.4,232.7 L 748.8,191.0\" style=\"fill:none;fill-rule:evenodd;stroke:#000000;stroke-width:2.0px;stroke-linecap:butt;stroke-linejoin:miter;stroke-opacity:1\"/>\n",
       "<path class=\"bond-22 atom-22 atom-23\" d=\"M 708.4,223.4 L 739.3,189.0\" style=\"fill:none;fill-rule:evenodd;stroke:#000000;stroke-width:2.0px;stroke-linecap:butt;stroke-linejoin:miter;stroke-opacity:1\"/>\n",
       "<path class=\"bond-23 atom-23 atom-24\" d=\"M 748.8,191.0 L 731.4,137.8\" style=\"fill:none;fill-rule:evenodd;stroke:#000000;stroke-width:2.0px;stroke-linecap:butt;stroke-linejoin:miter;stroke-opacity:1\"/>\n",
       "<path class=\"bond-24 atom-24 atom-25\" d=\"M 731.4,137.8 L 676.6,126.2\" style=\"fill:none;fill-rule:evenodd;stroke:#000000;stroke-width:2.0px;stroke-linecap:butt;stroke-linejoin:miter;stroke-opacity:1\"/>\n",
       "<path class=\"bond-24 atom-24 atom-25\" d=\"M 724.9,145.0 L 679.6,135.4\" style=\"fill:none;fill-rule:evenodd;stroke:#000000;stroke-width:2.0px;stroke-linecap:butt;stroke-linejoin:miter;stroke-opacity:1\"/>\n",
       "<path class=\"bond-25 atom-18 atom-26\" d=\"M 547.0,198.0 L 564.4,251.2\" style=\"fill:none;fill-rule:evenodd;stroke:#000000;stroke-width:2.0px;stroke-linecap:butt;stroke-linejoin:miter;stroke-opacity:1\"/>\n",
       "<path class=\"bond-26 atom-26 atom-27\" d=\"M 564.4,251.2 L 527.0,292.9\" style=\"fill:none;fill-rule:evenodd;stroke:#000000;stroke-width:2.0px;stroke-linecap:butt;stroke-linejoin:miter;stroke-opacity:1\"/>\n",
       "<path class=\"bond-26 atom-26 atom-27\" d=\"M 554.9,249.2 L 524.0,283.7\" style=\"fill:none;fill-rule:evenodd;stroke:#000000;stroke-width:2.0px;stroke-linecap:butt;stroke-linejoin:miter;stroke-opacity:1\"/>\n",
       "<path class=\"bond-27 atom-27 atom-3\" d=\"M 527.0,292.9 L 472.2,281.3\" style=\"fill:none;fill-rule:evenodd;stroke:#000000;stroke-width:2.0px;stroke-linecap:butt;stroke-linejoin:miter;stroke-opacity:1\"/>\n",
       "<path class=\"bond-28 atom-25 atom-20\" d=\"M 676.6,126.2 L 639.2,167.9\" style=\"fill:none;fill-rule:evenodd;stroke:#000000;stroke-width:2.0px;stroke-linecap:butt;stroke-linejoin:miter;stroke-opacity:1\"/>\n",
       "<path d=\"M 378.1,313.5 L 380.0,311.4 L 382.7,312.0\" style=\"fill:none;stroke:#000000;stroke-width:2.0px;stroke-linecap:butt;stroke-linejoin:miter;stroke-opacity:1;\"/>\n",
       "<path d=\"M 432.0,322.4 L 434.8,323.0 L 436.6,320.9\" style=\"fill:none;stroke:#000000;stroke-width:2.0px;stroke-linecap:butt;stroke-linejoin:miter;stroke-opacity:1;\"/>\n",
       "<path d=\"M 402.7,217.1 L 400.0,216.5 L 399.6,215.4\" style=\"fill:none;stroke:#000000;stroke-width:2.0px;stroke-linecap:butt;stroke-linejoin:miter;stroke-opacity:1;\"/>\n",
       "<path d=\"M 275.8,140.7 L 273.0,140.1 L 272.3,140.9\" style=\"fill:none;stroke:#000000;stroke-width:2.0px;stroke-linecap:butt;stroke-linejoin:miter;stroke-opacity:1;\"/>\n",
       "<path d=\"M 182.0,170.5 L 180.8,170.2 L 180.1,171.0\" style=\"fill:none;stroke:#000000;stroke-width:2.0px;stroke-linecap:butt;stroke-linejoin:miter;stroke-opacity:1;\"/>\n",
       "<path d=\"M 89.8,200.6 L 88.6,200.4 L 86.7,202.4\" style=\"fill:none;stroke:#000000;stroke-width:2.0px;stroke-linecap:butt;stroke-linejoin:miter;stroke-opacity:1;\"/>\n",
       "<path d=\"M 490.3,188.5 L 492.2,186.4 L 494.9,187.0\" style=\"fill:none;stroke:#000000;stroke-width:2.0px;stroke-linecap:butt;stroke-linejoin:miter;stroke-opacity:1;\"/>\n",
       "<path d=\"M 582.5,158.4 L 584.4,156.3 L 587.2,156.9\" style=\"fill:none;stroke:#000000;stroke-width:2.0px;stroke-linecap:butt;stroke-linejoin:miter;stroke-opacity:1;\"/>\n",
       "<path d=\"M 655.7,218.4 L 656.6,221.1 L 659.3,221.7\" style=\"fill:none;stroke:#000000;stroke-width:2.0px;stroke-linecap:butt;stroke-linejoin:miter;stroke-opacity:1;\"/>\n",
       "<path d=\"M 708.6,232.1 L 711.4,232.7 L 713.3,230.6\" style=\"fill:none;stroke:#000000;stroke-width:2.0px;stroke-linecap:butt;stroke-linejoin:miter;stroke-opacity:1;\"/>\n",
       "<path d=\"M 746.9,193.1 L 748.8,191.0 L 747.9,188.3\" style=\"fill:none;stroke:#000000;stroke-width:2.0px;stroke-linecap:butt;stroke-linejoin:miter;stroke-opacity:1;\"/>\n",
       "<path d=\"M 732.3,140.4 L 731.4,137.8 L 728.7,137.2\" style=\"fill:none;stroke:#000000;stroke-width:2.0px;stroke-linecap:butt;stroke-linejoin:miter;stroke-opacity:1;\"/>\n",
       "<path d=\"M 679.4,126.8 L 676.6,126.2 L 674.8,128.3\" style=\"fill:none;stroke:#000000;stroke-width:2.0px;stroke-linecap:butt;stroke-linejoin:miter;stroke-opacity:1;\"/>\n",
       "<path d=\"M 563.5,248.5 L 564.4,251.2 L 562.5,253.3\" style=\"fill:none;stroke:#000000;stroke-width:2.0px;stroke-linecap:butt;stroke-linejoin:miter;stroke-opacity:1;\"/>\n",
       "<path d=\"M 528.8,290.8 L 527.0,292.9 L 524.2,292.3\" style=\"fill:none;stroke:#000000;stroke-width:2.0px;stroke-linecap:butt;stroke-linejoin:miter;stroke-opacity:1;\"/>\n",
       "<path class=\"atom-6\" d=\"M 375.3 163.3 Q 375.3 159.5, 377.2 157.4 Q 379.1 155.3, 382.6 155.3 Q 386.1 155.3, 388.0 157.4 Q 389.9 159.5, 389.9 163.3 Q 389.9 167.2, 388.0 169.4 Q 386.1 171.5, 382.6 171.5 Q 379.1 171.5, 377.2 169.4 Q 375.3 167.2, 375.3 163.3 M 382.6 169.7 Q 385.0 169.7, 386.3 168.1 Q 387.7 166.5, 387.7 163.3 Q 387.7 160.2, 386.3 158.6 Q 385.0 157.0, 382.6 157.0 Q 380.2 157.0, 378.9 158.6 Q 377.6 160.2, 377.6 163.3 Q 377.6 166.5, 378.9 168.1 Q 380.2 169.7, 382.6 169.7 \" fill=\"#FF0000\"/>\n",
       "<path class=\"atom-11\" d=\"M 228.3 181.9 Q 228.3 178.0, 230.2 175.9 Q 232.1 173.8, 235.6 173.8 Q 239.1 173.8, 241.0 175.9 Q 242.9 178.0, 242.9 181.9 Q 242.9 185.7, 241.0 187.9 Q 239.1 190.1, 235.6 190.1 Q 232.1 190.1, 230.2 187.9 Q 228.3 185.7, 228.3 181.9 M 235.6 188.3 Q 238.0 188.3, 239.3 186.7 Q 240.7 185.0, 240.7 181.9 Q 240.7 178.7, 239.3 177.2 Q 238.0 175.6, 235.6 175.6 Q 233.2 175.6, 231.9 177.2 Q 230.6 178.7, 230.6 181.9 Q 230.6 185.1, 231.9 186.7 Q 233.2 188.3, 235.6 188.3 \" fill=\"#FF0000\"/>\n",
       "<path class=\"atom-13\" d=\"M 156.2 117.1 Q 156.2 113.2, 158.0 111.1 Q 159.9 109.0, 163.4 109.0 Q 167.0 109.0, 168.8 111.1 Q 170.7 113.2, 170.7 117.1 Q 170.7 120.9, 168.8 123.1 Q 166.9 125.3, 163.4 125.3 Q 159.9 125.3, 158.0 123.1 Q 156.2 120.9, 156.2 117.1 M 163.4 123.5 Q 165.9 123.5, 167.2 121.9 Q 168.5 120.2, 168.5 117.1 Q 168.5 113.9, 167.2 112.4 Q 165.9 110.8, 163.4 110.8 Q 161.0 110.8, 159.7 112.4 Q 158.4 113.9, 158.4 117.1 Q 158.4 120.3, 159.7 121.9 Q 161.0 123.5, 163.4 123.5 \" fill=\"#FF0000\"/>\n",
       "<path class=\"atom-14\" d=\"M 136.1 212.0 Q 136.1 208.2, 138.0 206.0 Q 139.9 203.9, 143.4 203.9 Q 146.9 203.9, 148.8 206.0 Q 150.7 208.2, 150.7 212.0 Q 150.7 215.8, 148.8 218.0 Q 146.9 220.2, 143.4 220.2 Q 139.9 220.2, 138.0 218.0 Q 136.1 215.8, 136.1 212.0 M 143.4 218.4 Q 145.8 218.4, 147.1 216.8 Q 148.4 215.1, 148.4 212.0 Q 148.4 208.8, 147.1 207.3 Q 145.8 205.7, 143.4 205.7 Q 141.0 205.7, 139.7 207.3 Q 138.4 208.8, 138.4 212.0 Q 138.4 215.2, 139.7 216.8 Q 141.0 218.4, 143.4 218.4 \" fill=\"#FF0000\"/>\n",
       "<rect x=\"1\" y=\"5\" width=\"21.0\" height=\"21.0\" fill=\"rgb(31, 119, 179)\"/><text x=\"22.400000000000002\" y=\"20\" font-family=\"Helvetica\" font-size=\"14\" fill=\"black\">CH3</text><rect x=\"1\" y=\"30\" width=\"21.0\" height=\"21.0\" fill=\"rgb(255, 127, 13)\"/><text x=\"22.400000000000002\" y=\"45\" font-family=\"Helvetica\" font-size=\"14\" fill=\"black\">C</text><rect x=\"1\" y=\"55\" width=\"21.0\" height=\"21.0\" fill=\"rgb(44, 159, 44)\"/><text x=\"22.400000000000002\" y=\"70\" font-family=\"Helvetica\" font-size=\"14\" fill=\"black\">ACH</text><rect x=\"1\" y=\"80\" width=\"21.0\" height=\"21.0\" fill=\"rgb(214, 39, 40)\"/><text x=\"22.400000000000002\" y=\"95\" font-family=\"Helvetica\" font-size=\"14\" fill=\"black\">ACCH2</text><rect x=\"1\" y=\"105\" width=\"21.0\" height=\"21.0\" fill=\"rgb(148, 103, 188)\"/><text x=\"22.400000000000002\" y=\"120\" font-family=\"Helvetica\" font-size=\"14\" fill=\"black\">CH2O</text><rect x=\"1\" y=\"130\" width=\"21.0\" height=\"21.0\" fill=\"rgb(140, 85, 75)\"/><text x=\"22.400000000000002\" y=\"145\" font-family=\"Helvetica\" font-size=\"14\" fill=\"black\">COO</text><rect x=\"1\" y=\"155\" width=\"21.0\" height=\"21.0\" fill=\"rgb(227, 119, 193)\"/><text x=\"22.400000000000002\" y=\"170\" font-family=\"Helvetica\" font-size=\"14\" fill=\"black\">CH2</text><rect x=\"1\" y=\"180\" width=\"21.0\" height=\"21.0\" fill=\"rgb(127, 127, 127)\"/><text x=\"22.400000000000002\" y=\"195\" font-family=\"Helvetica\" font-size=\"14\" fill=\"black\">AC</text><text x=\"400.0\" y=\"40\" font-family=\"Helvetica\" font-size=\"50\" font-weight=\"bold\" fill=\"black\" text-anchor=\"middle\">ugropy</text></svg>"
      ],
      "text/plain": [
       "<IPython.core.display.SVG object>"
      ]
     },
     "execution_count": 12,
     "metadata": {},
     "output_type": "execute_result"
    }
   ],
   "source": [
    "mol = Groups(\"CCCC1=C(COC(C)(C)COC(=O)OCC)C=C(CC2=CC=CC=C2)C=C1\", \"smiles\")\n",
    "\n",
    "svg = mol.unifac.draw(\"ugropy\", 800, 450, 50, 14)\n",
    "\n",
    "SVG(svg)"
   ]
  }
 ],
 "metadata": {
  "kernelspec": {
   "display_name": "ugropy",
   "language": "python",
   "name": "python3"
  },
  "language_info": {
   "codemirror_mode": {
    "name": "ipython",
    "version": 3
   },
   "file_extension": ".py",
   "mimetype": "text/x-python",
   "name": "python",
   "nbconvert_exporter": "python",
   "pygments_lexer": "ipython3",
   "version": "3.10.12"
  }
 },
 "nbformat": 4,
 "nbformat_minor": 2
}
