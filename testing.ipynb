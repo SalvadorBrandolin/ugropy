{
 "cells": [
  {
   "cell_type": "code",
   "execution_count": 123,
   "metadata": {},
   "outputs": [],
   "source": [
    "from ugropy import unifac, Groups, FragmentationModel\n",
    "\n",
    "import numpy as np\n",
    "\n",
    "from rdkit import Chem\n",
    "\n",
    "from itertools import combinations, product, chain\n",
    "\n",
    "from numba import njit, jit\n"
   ]
  },
  {
   "cell_type": "code",
   "execution_count": 2,
   "metadata": {},
   "outputs": [
    {
     "data": {
      "image/png": "[encoded data removed]",
      "text/plain": [
       "<rdkit.Chem.rdchem.Mol at 0x7f0eda3d3140>"
      ]
     },
     "execution_count": 2,
     "metadata": {},
     "output_type": "execute_result"
    }
   ],
   "source": [
    "groups = Groups(\"C13=C(C(=C(C(=C1C)C)CC2=C(C(=C(C(=C2C)CC)O[H])N([H])[H])C)C)CCCC3\", \"smiles\")\n",
    "\n",
    "groups.chem_object"
   ]
  },
  {
   "cell_type": "code",
   "execution_count": 3,
   "metadata": {},
   "outputs": [
    {
     "data": {
      "text/plain": [
       "{'CH3': 1, 'CH2': 2, 'ACCH3': 5, 'ACCH2': 4, 'ACOH': 1, 'ACNH2': 1, 'AC': 1}"
      ]
     },
     "execution_count": 3,
     "metadata": {},
     "output_type": "execute_result"
    }
   ],
   "source": [
    "groups.unifac_groups"
   ]
  },
  {
   "cell_type": "code",
   "execution_count": 149,
   "metadata": {},
   "outputs": [],
   "source": [
    "def fit_atoms(mol_object: Chem.rdchem.Mol, mol_subgroups: dict, model: FragmentationModel):\n",
    "    # =========================================================================\n",
    "    # Number of atoms in mol_object\n",
    "    # =========================================================================\n",
    "    total_atom_num = mol_object.GetNumAtoms()\n",
    "\n",
    "    # =========================================================================\n",
    "    # Getting true smarts, this will not be necessary later \n",
    "    # =========================================================================    \n",
    "    smarts = {}\n",
    "    for group in mol_subgroups.keys():\n",
    "        s = model.subgroups.loc[group, \"true_smarts\"]\n",
    "\n",
    "        if s is np.nan:\n",
    "            s = model.subgroups.loc[group, \"smarts\"]\n",
    "\n",
    "        smarts.update({group: s})\n",
    "\n",
    "    # =========================================================================\n",
    "    # Getting atoms candidates for each group\n",
    "    # =========================================================================\n",
    "    groups_atoms = {}\n",
    "    for group, smt in smarts.items():\n",
    "        atom = mol_object.GetSubstructMatches(Chem.MolFromSmarts(smt))\n",
    "        groups_atoms[group] = atom\n",
    "\n",
    "    # =========================================================================\n",
    "    # Getting combinations for each subgroup according to the number of the\n",
    "    # number of occurences in the mol_subgroups tentative solution.\n",
    "    # =========================================================================\n",
    "    atoms_combinations = {group: list(combinations(groups_atoms[group], mol_subgroups[group])) for group in mol_subgroups}\n",
    "\n",
    "    # Combination of possible solutions\n",
    "    llaves = list(atoms_combinations.keys())\n",
    "    #tuplas_externas = [atoms_combinations[key] for key in llaves]\n",
    "\n",
    "    # Generar todas las combinaciones posibles\n",
    "    for combinacion in product(*atoms_combinations.values()):\n",
    "        array_plano = chain(*chain(*combinacion))\n",
    "\n",
    "        if len(set(array_plano)) == total_atom_num:\n",
    "            sol_comb_dict = {llaves[i]: combinacion[i][0] if len(combinacion[i]) == 1 else combinacion[i] for i in range(len(llaves))}\n",
    "            return sol_comb_dict\n",
    "\n",
    "    return {}\n",
    "\n"
   ]
  },
  {
   "cell_type": "code",
   "execution_count": 150,
   "metadata": {},
   "outputs": [
    {
     "data": {
      "text/plain": [
       "{'CH3': (17,),\n",
       " 'CH2': ((23,), (24,)),\n",
       " 'ACCH3': ((2, 21), (4, 7), (5, 6), (10, 20), (14, 15)),\n",
       " 'ACCH2': ((0, 25), (1, 22), (3, 8), (13, 16)),\n",
       " 'ACOH': (12, 18),\n",
       " 'ACNH2': (11, 19),\n",
       " 'AC': (9,)}"
      ]
     },
     "execution_count": 150,
     "metadata": {},
     "output_type": "execute_result"
    }
   ],
   "source": [
    "atoms = fit_atoms(groups.chem_object, groups.unifac_groups, unifac)\n",
    "\n",
    "atoms"
   ]
  },
  {
   "cell_type": "code",
   "execution_count": 113,
   "metadata": {},
   "outputs": [
    {
     "data": {
      "text/plain": [
       "{'CH3': (17,),\n",
       " 'CH2': ((23,), (24,)),\n",
       " 'ACCH3': ((2, 21), (4, 7), (5, 6), (10, 20), (14, 15)),\n",
       " 'ACCH2': ((0, 25), (1, 22), (3, 8), (13, 16)),\n",
       " 'ACOH': (12, 18),\n",
       " 'ACNH2': (11, 19),\n",
       " 'AC': (9,)}"
      ]
     },
     "execution_count": 113,
     "metadata": {},
     "output_type": "execute_result"
    }
   ],
   "source": [
    "atoms = fit_atoms(groups.chem_object, groups.unifac_groups, unifac)\n",
    "\n",
    "atoms"
   ]
  },
  {
   "cell_type": "code",
   "execution_count": 133,
   "metadata": {},
   "outputs": [],
   "source": [
    "comb = (((6,),), ((8,), (16,)), ((2, 21), (4, 7), (5, 6), (10, 20), (14, 15)), ((0, 25), (1, 22), (3, 8), (9, 8)), ((12, 18),), ((11, 19),), ((0,),))"
   ]
  },
  {
   "cell_type": "code",
   "execution_count": 151,
   "metadata": {},
   "outputs": [
    {
     "name": "stdout",
     "output_type": "stream",
     "text": [
      "6.51 ms ± 683 µs per loop (mean ± std. dev. of 7 runs, 100 loops each)\n"
     ]
    }
   ],
   "source": [
    "%%timeit\n",
    "atoms = fit_atoms(groups.chem_object, groups.unifac_groups, unifac)\n",
    "\n",
    "atoms"
   ]
  },
  {
   "cell_type": "code",
   "execution_count": 142,
   "metadata": {},
   "outputs": [
    {
     "data": {
      "text/plain": [
       "572046.5890183029"
      ]
     },
     "execution_count": 142,
     "metadata": {},
     "output_type": "execute_result"
    }
   ],
   "source": [
    "1 * 3438 / (6.01 / 1000)"
   ]
  },
  {
   "cell_type": "code",
   "execution_count": 146,
   "metadata": {},
   "outputs": [
    {
     "data": {
      "text/plain": [
       "12.067019323486505"
      ]
     },
     "execution_count": 146,
     "metadata": {},
     "output_type": "execute_result"
    }
   ],
   "source": [
    "np.log(572046.5890183029) / np.log(3)"
   ]
  },
  {
   "cell_type": "code",
   "execution_count": null,
   "metadata": {},
   "outputs": [
    {
     "ename": "KeyError",
     "evalue": "'ACH'",
     "output_type": "error",
     "traceback": [
      "\u001b[0;31m---------------------------------------------------------------------------\u001b[0m",
      "\u001b[0;31mKeyError\u001b[0m                                  Traceback (most recent call last)",
      "Cell \u001b[0;32mIn[8], line 26\u001b[0m\n\u001b[1;32m     21\u001b[0m     \u001b[38;5;66;03m# It seems that the svg renderer used doesn't quite hit the spec.\u001b[39;00m\n\u001b[1;32m     22\u001b[0m     \u001b[38;5;66;03m# Here are some fixes to make it work in the notebook, although I think\u001b[39;00m\n\u001b[1;32m     23\u001b[0m     \u001b[38;5;66;03m# the underlying issue needs to be resolved at the generation step\u001b[39;00m\n\u001b[1;32m     24\u001b[0m     \u001b[38;5;28;01mreturn\u001b[39;00m svg\u001b[38;5;241m.\u001b[39mreplace(\u001b[38;5;124m'\u001b[39m\u001b[38;5;124msvg:\u001b[39m\u001b[38;5;124m'\u001b[39m,\u001b[38;5;124m'\u001b[39m\u001b[38;5;124m'\u001b[39m)\n\u001b[0;32m---> 26\u001b[0m SVG(\u001b[43mmoltosvg\u001b[49m\u001b[43m(\u001b[49m\u001b[43mgroups\u001b[49m\u001b[38;5;241;43m.\u001b[39;49m\u001b[43mchem_object\u001b[49m\u001b[43m)\u001b[49m)\n",
      "Cell \u001b[0;32mIn[8], line 18\u001b[0m, in \u001b[0;36mmoltosvg\u001b[0;34m(mol, molSize, kekulize)\u001b[0m\n\u001b[1;32m     16\u001b[0m     rdDepictor\u001b[38;5;241m.\u001b[39mCompute2DCoords(mc)\n\u001b[1;32m     17\u001b[0m drawer \u001b[38;5;241m=\u001b[39m rdMolDraw2D\u001b[38;5;241m.\u001b[39mMolDraw2DSVG(molSize[\u001b[38;5;241m0\u001b[39m],molSize[\u001b[38;5;241m1\u001b[39m])\n\u001b[0;32m---> 18\u001b[0m drawer\u001b[38;5;241m.\u001b[39mDrawMolecule(mc, highlightAtoms\u001b[38;5;241m=\u001b[39mnp\u001b[38;5;241m.\u001b[39marray(\u001b[43matoms\u001b[49m\u001b[43m[\u001b[49m\u001b[38;5;124;43m\"\u001b[39;49m\u001b[38;5;124;43mACH\u001b[39;49m\u001b[38;5;124;43m\"\u001b[39;49m\u001b[43m]\u001b[49m)\u001b[38;5;241m.\u001b[39mflatten()\u001b[38;5;241m.\u001b[39mtolist()) \u001b[38;5;66;03m# highlightAtoms=[6,12,13]) you can highlight atoms\u001b[39;00m\n\u001b[1;32m     19\u001b[0m drawer\u001b[38;5;241m.\u001b[39mFinishDrawing()\n\u001b[1;32m     20\u001b[0m svg \u001b[38;5;241m=\u001b[39m drawer\u001b[38;5;241m.\u001b[39mGetDrawingText()\n",
      "\u001b[0;31mKeyError\u001b[0m: 'ACH'"
     ]
    }
   ],
   "source": [
    "from rdkit import Chem\n",
    "from rdkit.Chem import rdDepictor\n",
    "from rdkit.Chem.Draw import rdMolDraw2D\n",
    "from IPython.display import SVG\n",
    "\n",
    "# http://rdkit.blogspot.com/2015/02/new-drawing-code.html\n",
    "\n",
    "def moltosvg(mol,molSize=(450,150),kekulize=True):\n",
    "    mc = Chem.Mol(mol.ToBinary())\n",
    "    if kekulize:\n",
    "        try:\n",
    "            Chem.Kekulize(mc)\n",
    "        except:\n",
    "            mc = Chem.Mol(mol.ToBinary())\n",
    "    if not mc.GetNumConformers():\n",
    "        rdDepictor.Compute2DCoords(mc)\n",
    "    drawer = rdMolDraw2D.MolDraw2DSVG(molSize[0],molSize[1])\n",
    "    drawer.DrawMolecule(mc, highlightAtoms=np.array(atoms[\"ACH\"]).flatten().tolist()) # highlightAtoms=[6,12,13]) you can highlight atoms\n",
    "    drawer.FinishDrawing()\n",
    "    svg = drawer.GetDrawingText()\n",
    "    # It seems that the svg renderer used doesn't quite hit the spec.\n",
    "    # Here are some fixes to make it work in the notebook, although I think\n",
    "    # the underlying issue needs to be resolved at the generation step\n",
    "    return svg.replace('svg:','')\n",
    "\n",
    "SVG(moltosvg(groups.chem_object))\n"
   ]
  }
 ],
 "metadata": {
  "kernelspec": {
   "display_name": "ugropy",
   "language": "python",
   "name": "python3"
  },
  "language_info": {
   "codemirror_mode": {
    "name": "ipython",
    "version": 3
   },
   "file_extension": ".py",
   "mimetype": "text/x-python",
   "name": "python",
   "nbconvert_exporter": "python",
   "pygments_lexer": "ipython3",
   "version": "3.10.12"
  }
 },
 "nbformat": 4,
 "nbformat_minor": 2
}
