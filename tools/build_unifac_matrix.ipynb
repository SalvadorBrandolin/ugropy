{
 "cells": [
  {
   "cell_type": "code",
   "execution_count": 1,
   "metadata": {},
   "outputs": [],
   "source": [
    "import json\n",
    "\n",
    "import pandas as pd\n",
    "\n",
    "import numpy as np"
   ]
  },
  {
   "cell_type": "code",
   "execution_count": 22,
   "metadata": {},
   "outputs": [],
   "source": [
    "with open(\"../ugropy/groupscsv/unifac/unifac_subgroups.csv\", mode='r') as f:\n",
    "    df = pd.read_csv(f, sep='|', index_col=\"group\")\n",
    "\n",
    "# indexes of the groups matrix\n",
    "index = df.index.to_numpy()\n",
    "\n",
    "# filles with zeros at start\n",
    "matrix = np.zeros((len(index), len(index)), dtype=int)\n",
    "\n",
    "# build the matrix\n",
    "dfm = pd.DataFrame(matrix, index=index, columns=index).rename_axis(\"group\")\n",
    "\n",
    "# fill the matrix\n",
    "for group in df.index:\n",
    "    string_contribution = df.loc[group].contribute\n",
    "    \n",
    "    try:\n",
    "        contribution = json.loads(string_contribution) # transform into dict\n",
    "    except json.JSONDecodeError:\n",
    "        print(group)\n",
    "        print(string_contribution)\n",
    "        break\n",
    "    except TypeError:\n",
    "        print(group)\n",
    "        print(string_contribution)\n",
    "        break\n",
    "\n",
    "    for k in contribution.keys():\n",
    "        dfm.loc[group][k] = contribution[k] # fill contribution\n",
    "\n",
    "# save the matrix\n",
    "dfm.to_csv(\"../ugropy/groupscsv/unifac/unifac_matrix.csv\", sep=\"|\")\n",
    "    "
   ]
  }
 ],
 "metadata": {
  "kernelspec": {
   "display_name": "ugropy",
   "language": "python",
   "name": "python3"
  },
  "language_info": {
   "codemirror_mode": {
    "name": "ipython",
    "version": 3
   },
   "file_extension": ".py",
   "mimetype": "text/x-python",
   "name": "python",
   "nbconvert_exporter": "python",
   "pygments_lexer": "ipython3",
   "version": "3.10.6"
  },
  "orig_nbformat": 4
 },
 "nbformat": 4,
 "nbformat_minor": 2
}
